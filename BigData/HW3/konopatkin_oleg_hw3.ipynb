{
 "cells": [
  {
   "cell_type": "markdown",
   "metadata": {},
   "source": [
    "# Алгоритмы интеллектуальной обработки больших объемов данных\n",
    "## Домашнее задание №3: Линейные модели\n"
   ]
  },
  {
   "cell_type": "markdown",
   "metadata": {},
   "source": [
    "###### <hr\\>\n",
    "**Общая информация**\n",
    "\n",
    "**Срок сдачи:** 17 ноября 2018, 06:00 <br\\>\n",
    "**Штраф за опоздание:** -2 балла после 06:00 17 ноября, -4 балла после 06:00 24 ноября, -6 баллов после 06:00 1 декабря, -8 баллов после 06:00 8 декабря.\n",
    "\n",
    "При отправлении ДЗ указывайте фамилию в названии файла<br\\>\n",
    "\n",
    "Используйте данный Ipython Notebook при оформлении домашнего задания.\n",
    "\n",
    "**Штрафные баллы:**\n",
    "\n",
    "1. Невыполнение PEP8 -1 балл\n",
    "2. Отсутствие фамилии в имени скрипта (скрипт должен называться по аналогии со stroykova_hw2.ipynb) -1 балл\n",
    "3. Все строчки должны быть выполнены. Нужно, чтобы output команды можно было увидеть уже в git'е. В противном случае -1 балл\n",
    "4. При оформлении ДЗ нужно пользоваться данным файлом в качестве шаблона. Не нужно удалять и видоизменять написанный код и текст, если явно не указана такая возможность. В противном случае -1 балл\n",
    "<hr\\>"
   ]
  },
  {
   "cell_type": "code",
   "execution_count": 1,
   "metadata": {},
   "outputs": [],
   "source": [
    "import pandas as pd\n",
    "import numpy as np\n",
    "import matplotlib.pyplot as plt\n",
    "\n",
    "%matplotlib inline\n",
    "%load_ext pycodestyle_magic\n",
    "\n",
    "plt.style.use('ggplot')\n",
    "plt.rcParams['figure.figsize'] = (12,5)"
   ]
  },
  {
   "cell_type": "markdown",
   "metadata": {},
   "source": [
    "# Определям, что вам досталось"
   ]
  },
  {
   "cell_type": "markdown",
   "metadata": {},
   "source": [
    "<center><img src='https://static1.squarespace.com/static/571a6e39b6aa608067028725/t/577988518419c2d62fb5922f/1467582555915/'></center>"
   ]
  },
  {
   "cell_type": "markdown",
   "metadata": {},
   "source": [
    "Укажите свою фамилию на русском языке в поле ниже."
   ]
  },
  {
   "cell_type": "code",
   "execution_count": 2,
   "metadata": {},
   "outputs": [
    {
     "name": "stdout",
     "output_type": "stream",
     "text": [
      "Имплементируйте обучение логистической регрессии с L2 регуляризацией с помощью метода Mini Batch Stochastic Gradient Descent (SGD)\n"
     ]
    }
   ],
   "source": [
    "USER_NAME = u\"Конопаткин\".lower()\n",
    "REGULARIZATIONS = [\"L1\", \"L2\"]\n",
    "ALGORITHM = [\"\", \"Mini Batch\"]\n",
    "\n",
    "print (\"Имплементируйте обучение логистической регрессии с %s регуляризацией с помощью метода %s Stochastic Gradient Descent (SGD)\"\\\n",
    "% (\n",
    "    REGULARIZATIONS[hash(USER_NAME) % 2],\n",
    "    ALGORITHM[hash(USER_NAME[::-1]) % 2]\n",
    ") )\n",
    "\n",
    "# этот волшебный хэш почему-то после перезапуска ядра выдаёт разные ответы\n",
    "# в первый раз честно было \"L1\" и \"\""
   ]
  },
  {
   "cell_type": "markdown",
   "metadata": {},
   "source": [
    "# Теоретическое введение\n",
    "\n"
   ]
  },
  {
   "cell_type": "markdown",
   "metadata": {},
   "source": [
    "*** Что почитать по теории ***\n",
    "\n",
    "Одна из лучших книг по ML $-$ \"Pattern Recognition and Machine Learning\" Bishop, Christopher. Логистическая регрессия в ней в параграфе 4.3"
   ]
  },
  {
   "cell_type": "markdown",
   "metadata": {},
   "source": [
    "Логистическая регрессия является линейным классификатором, который оптимизирует так называемый функционал log loss:"
   ]
  },
  {
   "cell_type": "markdown",
   "metadata": {},
   "source": [
    "$$L(w) = - \\frac{1}{N}\\left[\\sum_i y_i \\log a_i + ( 1 - y_i) \\log (1 - a_i) \\right],$$\n",
    "где  $y_i  \\in \\{0,1\\}$ $-$ метка класса, $a_i$ $-$ предсказание алгоритма на объекте $x_i$. Модель пытается предсказать апостериорую вероятность объекта принадлежать к классу \"1\":\n",
    "$$ p(y_i = 1 | x_i) = a(x_i) =  \\sigma( \\langle\\,x_i,w\\rangle ),$$\n",
    "где $w$ $-$ вектор весов (размерности $D$), $x_i$ $-$ вектор признаков (такой же размерности $D$).\n",
    "\n",
    "Функция $\\sigma(x)$ $-$ нелинейная функция, пероводящее скалярное произведение объекта на веса в число $\\in (0,1)$ (мы же моделируем вероятность все-таки!)\n",
    "\n",
    "$$\\sigma(x) = \\frac{1}{1 + \\exp(-x)}$$\n",
    "\n",
    "Если внимательно посмотреть на функцию потерь, то можно заметить, что в зависимости от правильного ответа алгоритм штрафуется или функцией $-\\log a_i$, или функцией $-\\log (1 - a_i)$.\n",
    "\n"
   ]
  },
  {
   "cell_type": "markdown",
   "metadata": {},
   "source": [
    "Часто для решения проблем, которые так или иначе связаны с проблемой переобучения, в функционал качества добавляют слагаемое, которое называют ***регуляризацией***. Итоговый функционал тогда принимает вид:\n",
    "$$L(w) = - \\frac{1}{N}\\left[\\sum_i y_i \\log a_i + ( 1 - y_i) \\log (1 - a_i) \\right] +  \\frac{1}{C}R(w)$$\n",
    "\n",
    "Самое понятие регуляризации введено основателем ВМК академиком Тихоновым https://ru.wikipedia.org/wiki/Метод_регуляризации_Тихонова\n",
    "\n",
    "Идейно методика регуляризации заключается в следующем $-$ мы рассматриваем некорректно поставленную задачу (что это такое можно найти в интернете), для того чтобы сузить набор различных вариантов (лучшие из которых будут являться переобучением ) мы вводим дополнительные ограничения на множество искомых решений. На лекции Вы уже рассмотрели два варианта регуляризации.\n",
    "\n",
    "$L1$ регуляризация:\n",
    "$$R(w) = \\sum_{j=1}^{D}|w_j|$$\n",
    "$L2$ регуляризация:\n",
    "$$R(w) =  \\sum_{j=1}^{D}w_j^2$$\n",
    "\n",
    "С их помощью мы ограничиваем модель в  возможности выбора каких угодно весов минимизирующих наш лосс, модель уже не сможет подстроиться под данные как ей угодно. \n",
    "\n",
    "Вам нужно добавить соотвествущую Вашему варианту регуляризацию в функцию потерь.\n",
    "\n",
    "И так, мы поняли, какую функцию ошибки будем минимизировать, разобрались, как получить предсказания по объекту и обученным весам. Осталось разобраться, как получить оптимальные веса. Для этого нужно выбрать какой-то метод оптимизации. Отметим, что вне зависимости от алгоритма оптимизации, данная модель все равно будет называться ***логистической регрессией***.\n",
    "\n"
   ]
  },
  {
   "cell_type": "markdown",
   "metadata": {},
   "source": [
    "Градиентный спуск является самым популярным алгоритмом обучения линейных моделей. В этом задании Вам предложат реализовать стохастический градиентный спуск или  мини-батч градиентный спуск (мини-батч на русский язык довольно сложно перевести, многие переводят это как \"пакетный\", но мне не кажется этот перевод удачным). Далее нам потребуется определение **эпохи**.\n",
    "Эпохой в SGD и MB-GD называется один проход по **всем** объектам в обучающей выборки.\n",
    "* В SGD градиент расчитывается по одному случайному объекту. Сам алгоритм выглядит примерно так:\n",
    "        1) Перемешать выборку\n",
    "        2) Посчитать градиент функции потерь на одном объекте (далее один объект тоже будем называть батчем)\n",
    "        3) Сделать шаг спуска\n",
    "        4) Повторять 2) и 3) пока не пройдет максимальное число эпох.\n",
    "* В Mini Batch SGD - по подвыборке объектов. Сам алгоритм выглядит примерно так::\n",
    "        1) Перемешать выборку\n",
    "        2) Почитать градиент функции потерь по мини-батчу (не забыть поделить на  число объектов в мини-батче)\n",
    "        3) Сделать шаг спуска\n",
    "        4) Повторять 2) и 3) пока не пройдет максимальное число эпох.\n",
    "* Для отладки алгоритма реализуйте возможность  вывода средней ошибки на обучении модели по объектам (мини-батчам). После шага градиентного спуска посчитайте значение ошибки на объекте (или мини-батче), а затем усредните, например, по ста шагам. Если обучение проходит корректно, то мы должны увидеть, что каждые 100 шагов функция потерь уменьшается. \n",
    "* Правило останова - максимальное количество эпох\n",
    "    \n"
   ]
  },
  {
   "cell_type": "markdown",
   "metadata": {},
   "source": [
    "### Примечание для случая L1-регуляризации:\n",
    "\n",
    "При расчете производной по функции потерь c L1-регуляризацией  могут возникнуть сомнения по поводу производной части с модулями. \n",
    "\n",
    "Вам на выбор предлагаются следующией варианты:\n",
    "* Считать субградиент $\\partial|w_j| = sign(w_j)$ (проще, но с большой вероятностью не приведет к занулению коэффициентов)\n",
    "* Метод SGD-Clipping из [статьи](https://www.aclweb.org/anthology/P/P09/P09-1054.pdf) - раздел 3.1, страница 479, правая колонка снизу (чуть сложнее, но зато должно занулять)\n",
    "* Cumulative Penalty из той же [статьи](https://www.aclweb.org/anthology/P/P09/P09-1054.pdf) - раздел 3.2"
   ]
  },
  {
   "cell_type": "markdown",
   "metadata": {},
   "source": [
    "# Теоретические вопросы (2 балла)\n",
    "В этой части Вам будут предложены теоретичские вопросы и задачи по теме. Вы, конечно, можете списать их у своего товарища или найти решение в интернете, но учтите, что они обязательно войдут в теоретический коллоквиум. Лучше разобраться в теме сейчас и успешно ответить на коллоквиуме, чем списать, не разобравшись в материале, и быть терзаемым совестью. \n",
    "\n",
    "\n",
    "Формулы надо оформлять в формате **LaTeX**."
   ]
  },
  {
   "cell_type": "markdown",
   "metadata": {},
   "source": [
    "***Задача 1. Градиент для логистической регрессии.***\n",
    "* Посчитайте градиент функции потерь по весам для модели логистической регрессии с конкретно Вашей регуляризацией:\n",
    "\n",
    "$$ \\nabla_w L = \\dots $$\n",
    "\n",
    " Отнеситесь к этому пункту максимально серьезно, этот градиент Вам нужно будет реализовать в задании."
   ]
  },
  {
   "cell_type": "markdown",
   "metadata": {},
   "source": [
    "***Ваше решение здесь***\n",
    "\n",
    "$$L(w) = - \\frac{1}{N}\\left[\\sum_i y_i \\log a_i + ( 1 - y_i) \\log (1 - a_i) \\right] +  \\frac{1}{C}R(w)$$\n",
    "\n",
    "$$a_i = \\frac{1}{1 + \\exp(-\\langle\\,x_i,w\\rangle )}$$\n",
    "\n",
    "$$R(w) = \\sum_{j=1}^{D}|w_j|$$"
   ]
  },
  {
   "cell_type": "markdown",
   "metadata": {},
   "source": [
    "$$\\frac{dL}{dw_j} = \\frac{d}{dw_j}\\left(-\\frac{1}{N}\\left[\\sum_i y_i \\log a_i + ( 1 - y_i) \\log (1 - a_i) \\right]+ \\frac\n",
    "{1}{C}R(w)\\right) = -\\frac{1}{N}\\left[\\sum_i \\frac{y_i}{a_i} \\frac{da_i}{dw_j} + \\frac{y_i - 1}{1 - a_i} \\frac\n",
    "{da_i}{dw_j} \\right]+ \\frac{1}{C}\\frac{dR(w)}{dw_j}$$"
   ]
  },
  {
   "cell_type": "markdown",
   "metadata": {},
   "source": [
    "$$\\frac{da_i}{dw_j} = \\frac{\\exp(-\\langle\\,x_i,w\\rangle )x_i^{(j)}}{(1 + \\exp(-\\langle\\,x_i,w\\rangle ))^2} = a_i^2 \\exp(-\\langle\\,x_i,w\\rangle )x_i^{(j)}; \\frac{dR(w)}{dw_j} = sign(w_j)$$"
   ]
  },
  {
   "cell_type": "markdown",
   "metadata": {},
   "source": [
    "$$\\frac{dL}{dw_j} = -\\frac{1}{N}\\left[\\sum_i a_i^2\\exp(-\\langle\\,x_i,w\\rangle )x_i^{(j)}\\left(\\frac{y_i}{a_i} + \\frac{y_i - 1}{1 - a_i}\\right) \\right]+ \\frac{1}{C}sign(w_j)$$"
   ]
  },
  {
   "cell_type": "markdown",
   "metadata": {},
   "source": [
    "$$\\nabla_w L = -\\frac{1}{N}\\left[\\sum_i a_i^2 \\exp(-\\langle\\,x_i,w\\rangle )x_i\\left(\\frac{y_i}{a_i} + \\frac{y_i - 1}{1 - a_i}\\right) \\right]+ \\frac{1}{C}sign(w) = -\\frac{1}{N}\\left[\\sum_i a(x_i) \\exp(-\\langle\\,x_i,w\\rangle )x_i\\left(\\frac{y_i - a(x_i)}{1 - a(x_i)}\\right) \\right]+ \\frac{1}{C}sign(w) = $$\n",
    "\n",
    "$$= -\\frac{1}{N}\\left[\\sum_i \\frac{\\exp(-\\langle\\,x_i,w\\rangle )}{1 + \\exp(-\\langle\\,x_i,w\\rangle )} \\left(\\frac{1}{1 - \\frac{1}{1 + \\exp(-\\langle\\,x_i,w\\rangle )}}\\right)(y_i - a(x_i))x_i \\right]+ \\frac{1}{C}sign(w) =$$\n",
    "\n",
    "$$= -\\frac{1}{N}\\left[\\sum_i \\frac{\\exp(-\\langle\\,x_i,w\\rangle )}{1 + \\exp(-\\langle\\,x_i,w\\rangle )} \\left(\\frac{1 + \\exp(-\\langle\\,x_i,w\\rangle )}{\\exp(-\\langle\\,x_i,w\\rangle )}\\right)(y_i - a(x_i))x_i \\right]+ \\frac{1}{C}sign(w) = -\\frac{1}{N}\\left[\\sum_i (y_i - a(x_i))x_i \\right]+ \\frac{1}{C}sign(w)$$\n",
    "\n",
    "(в градиенте $sign$ векторный)"
   ]
  },
  {
   "cell_type": "markdown",
   "metadata": {},
   "source": [
    "***Задача 2. Анализ поведения градиента.***\n",
    "\n",
    "Посчитав формулу градиента, подумайте, как будут меняться веса в зависимости  от \"вида\" ошибки: \n",
    "* Если правильный ответ был  класс \"1\", а значение $a(x_i)$ близко к нулю, после шага градиентного спуска веса в среднем увеличатся или уменьшатся?\n",
    "\n",
    "* Если правильный ответ был  класс \"0\", а значение $a(x_i)$ близко к  единице, после шага градиентного спуска веса в среднем увеличатся или уменьшатся?\n",
    "\n",
    "Вам такое поведение кажется логичным?"
   ]
  },
  {
   "cell_type": "markdown",
   "metadata": {},
   "source": [
    "***Ваше решение здесь***\n",
    "\n",
    "В первом случае значение в скобках будет положительным, и веса должны увеличиться.<br>\n",
    "Во втором случае значение в скобках будет отрицательным, и веса должны уменьшиться.\n",
    "\n",
    "Выглядит логично, так как разделяющая гиперплоскость будет двигаться по антиградиенту в сторону уменьшения функции штрафа"
   ]
  },
  {
   "cell_type": "markdown",
   "metadata": {},
   "source": [
    "***Задача 3. Сравнение с линейной регрессией.***\n",
    "\n",
    "Как было рассказано на лекции, функция потерь линейной регрессии без регуляризации имеет вид:\n",
    "$$ L( w ) = \\frac{1}{N}\\left[\\sum_i (a(x_i) - y_i)^2 \\right] $$\n",
    "где $a(x_i)$ предсказания модели на $i$ объекте, $y_i$ $-$ значение целовой переменной на $i$ объекте, $N$ $-$ размер выборки.\n",
    "$a(x_i)$ через веса и признаки вычисляется как:\n",
    "$$ a(x_i) =  \\langle\\,x_i,w\\rangle $$\n",
    "где $x_i$ $-$ вектор признаков, $w$ $-$ вектор весов модели.\n",
    "* Посчитайте градиент  функции потерь по весам для модели линейной регрессии:\n",
    "$$ \\nabla_w L = \\dots $$\n",
    "Как соотносится этот градиент с градиентом, возникающий в задаче логистической регресии? Вас это удивило, Вы это уже раньше заметили или Вам все равно? "
   ]
  },
  {
   "cell_type": "markdown",
   "metadata": {},
   "source": [
    "***Ваше решение здесь***\n",
    "\n",
    "для линейной регрессии:\n",
    "\n",
    "$$ \\nabla_w L_{lin} = -\\frac {2}{N} \\left[\\sum_i (y_i - a(x_i))x_i  \\right] $$\n",
    "\n",
    "для логистической регрессии:\n",
    "\n",
    "$$\\nabla_w L_{log} = -\\frac{1}{N}\\left[\\sum_i (y_i - a(x_i))x_i \\right]$$\n",
    "\n",
    "получается, градиент отличается на константу\n",
    "\n",
    "**внезапно**, но поскольку задачи имеют примерно одинаковый вид формул, можно было ожидать, что градиент получится похожим"
   ]
  },
  {
   "cell_type": "markdown",
   "metadata": {},
   "source": [
    "***Задача 4.  Предсказываем вероятности.***\n",
    "\n",
    "Когда говорят о логистической регрессии, произносят фразу, что она \"предсказывает вероятности положительного класса\". Давайте разберемся, что же за этим стоит. Посчитаем математическое ожидание функции потерь и проверим, что предсказание алгоритма, оптимизирующее это мат. ожидание, будет являться вероятностью положительного класса. \n",
    "\n",
    "И так, функция потерь на объекте $x_i$, который имеет метку $y_i \\in \\{0,1\\}$  для предсказания $a(x_i)$ равна:\n",
    "$$L(y_i, b) =-[y_i == 1] \\log a(x_i)  - [y_i == 0] \\log(1 - a(x_i)) $$\n",
    "\n",
    "Где $[]$ означает индикатор $-$ он равен единице, если значение внутри него истинно, иначе он равен нулю. Тогда мат. ожидание при условии конкретного $x_i$  по определение мат. ожидания дискретной случайной величины:\n",
    "$$E(L | x_i) = -p(y_i = 1 |x_i ) \\log a(x_i)  - p(y_i = 0 | x_i) \\log( 1 - a(x_i))$$\n",
    "* Докажите, что значение $a(x_i)$, минимизирующее данное мат. ожидание, в точности равно $p(y_i = 1 |x_i)$, то есть равно вероятности положительного класса.\n",
    "\n",
    "Подсказка: возможно, придется воспользоваться, что  $p(y_i = 1 | x_i) + p(y_i = 0 | x_i) = 1$"
   ]
  },
  {
   "cell_type": "markdown",
   "metadata": {},
   "source": [
    "***Ваше решение здесь***\n",
    "\n",
    "$$E(L | x_i) = -p(y_i = 1 |x_i ) \\log a(x_i)  - p(y_i = 0 | x_i) \\log( 1 - a(x_i)) =$$ \n",
    "\n",
    "$$= -p(y_i = 1 |x_i ) \\log a(x_i) - (1 -p(y_i = 1 |x_i )) \\log( 1 - a(x_i)) =$$\n",
    "\n",
    "$$= -p(y_i = 1 |x_i )(\\log a(x_i) - \\log( 1 - a(x_i))) - \\log( 1 - a(x_i))$$ "
   ]
  },
  {
   "cell_type": "markdown",
   "metadata": {},
   "source": [
    "$$\\frac{dE(L | x_i)}{da(x_i)} = -p(y_i = 1 |x_i) \\left(\\frac{1}{a(x_i)} + \\frac{1}{1 - a(x_i)}\\right)  + \\frac{1}{1 - a(x_i)} =$$\n",
    "\n",
    "$$= \\frac{-p(y_i = 1 |x_i)}{a(x_i)(1 - a(x_i))}  + \\frac{1}{1 - a(x_i)} = \\frac{a(x_i)-p(y_i = 1 |x_i)}{a(x_i)(1 - a(x_i))} = 0$$\n",
    "<br><br>\n",
    "$$a(x_i) = p(y_i = 1 |x_i), ч.т.д.$$"
   ]
  },
  {
   "cell_type": "markdown",
   "metadata": {},
   "source": [
    "#  Реализация логистической регрессии (6 баллов)"
   ]
  },
  {
   "cell_type": "markdown",
   "metadata": {},
   "source": [
    "## Зачем нужны батчи?\n"
   ]
  },
  {
   "cell_type": "markdown",
   "metadata": {},
   "source": [
    "Как Вы могли заметить из теоретического введения, что в случае SGD, что в случа mini-batch GD,  на каждой итерации обновление весов  происходит только по небольшой части данных (1 пример в случае SGD, batch примеров в случае mini-batch). То есть для каждой итерации нам *** не нужна вся выборка***. Мы можем просто итерироваться по выборке, беря батч нужного размера (далее 1 объект тоже будем называть батчом).\n",
    "\n",
    "Легко заметить, что в этом случае нам не нужно загружать все данные в оперативную память, достаточно просто считать батч с диска, обновить веса, считать диска другой батч и так далее. В целях упрощения домашней работы, прямо с диска  мы считывать не будем, будем работать с обычными numpy array. \n",
    "\n",
    "\n",
    "\n"
   ]
  },
  {
   "cell_type": "markdown",
   "metadata": {},
   "source": [
    "## Немножко про генераторы в Python\n",
    "\n"
   ]
  },
  {
   "cell_type": "markdown",
   "metadata": {},
   "source": [
    "Идея считывания данных кусками удачно ложится на так называемые ***генераторы*** из языка Python. В данной работе Вам предлагается не только разобраться с логистической регрессией, но  и познакомиться с таким важным элементом языка.  При желании Вы можете убрать весь код, связанный с генераторами, и реализовать логистическую регрессию и без них, ***штрафоваться это никак не будет***. Главное, чтобы сама модель была реализована правильно, и все пункты были выполнены. \n",
    "\n",
    "Подробнее можно почитать вот тут https://anandology.com/python-practice-book/iterators.html\n"
   ]
  },
  {
   "cell_type": "markdown",
   "metadata": {},
   "source": [
    "К генератору стоит относиться просто как к функции, которая порождает не один объект, а целую последовательность объектов. Новое значение из последовательности генерируется с помощью ключевого слова ***yield***. Ниже Вы можете насладиться  генератором чисел Фибоначчи."
   ]
  },
  {
   "cell_type": "code",
   "execution_count": 3,
   "metadata": {
    "collapsed": true
   },
   "outputs": [],
   "source": [
    "def fib(max_iter=4):\n",
    "    a, b = 0, 1\n",
    "    iter_num = 0\n",
    "    while 1:\n",
    "        yield a\n",
    "        a, b = b, a + b\n",
    "        iter_num += 1\n",
    "        if iter_num == max_iter:\n",
    "            break"
   ]
  },
  {
   "cell_type": "markdown",
   "metadata": {},
   "source": [
    "Вот так можно сгенерировать последовательность Фибоначчи. \n",
    "\n",
    "Заметьте, что к генераторам можно применять некоторые стандартные функции из Python, например enumerate."
   ]
  },
  {
   "cell_type": "code",
   "execution_count": 4,
   "metadata": {},
   "outputs": [
    {
     "name": "stdout",
     "output_type": "stream",
     "text": [
      "Fib num: 0 fib values: 0\n",
      "Fib num: 1 fib values: 1\n",
      "Fib num: 2 fib values: 1\n",
      "Fib num: 3 fib values: 2\n"
     ]
    }
   ],
   "source": [
    "new_generator = fib()\n",
    "for j, fib_val in enumerate(new_generator):\n",
    "    print (\"Fib num: \" + str(j) + \" fib values: \" + str(fib_val))"
   ]
  },
  {
   "cell_type": "markdown",
   "metadata": {},
   "source": [
    "Пересоздавая объект, можно сколько угодно раз генерировать заново последовательность. "
   ]
  },
  {
   "cell_type": "code",
   "execution_count": 5,
   "metadata": {},
   "outputs": [
    {
     "name": "stdout",
     "output_type": "stream",
     "text": [
      "Fib num: 0 fib values: 0\n",
      "Fib num: 1 fib values: 1\n",
      "Fib num: 2 fib values: 1\n",
      "Fib num: 3 fib values: 2\n",
      "Fib num: 0 fib values: 0\n",
      "Fib num: 1 fib values: 1\n",
      "Fib num: 2 fib values: 1\n",
      "Fib num: 3 fib values: 2\n",
      "Fib num: 0 fib values: 0\n",
      "Fib num: 1 fib values: 1\n",
      "Fib num: 2 fib values: 1\n",
      "Fib num: 3 fib values: 2\n"
     ]
    }
   ],
   "source": [
    "for i in range(0, 3):\n",
    "    new_generator = fib()\n",
    "    for j, fib_val in enumerate(new_generator):\n",
    "        print (\"Fib num: \" + str(j) + \" fib values: \" + str(fib_val))"
   ]
  },
  {
   "cell_type": "markdown",
   "metadata": {},
   "source": [
    "А вот так уже нельзя."
   ]
  },
  {
   "cell_type": "code",
   "execution_count": 6,
   "metadata": {},
   "outputs": [
    {
     "name": "stdout",
     "output_type": "stream",
     "text": [
      "Fib num: 0 fib values: 0\n",
      "Fib num: 1 fib values: 1\n",
      "Fib num: 2 fib values: 1\n",
      "Fib num: 3 fib values: 2\n"
     ]
    }
   ],
   "source": [
    "new_generator = fib()\n",
    "for i in range(0, 3):\n",
    "    for j, fib_val in enumerate(new_generator):\n",
    "        print (\"Fib num: \" + str(j) + \" fib values: \" + str(fib_val))"
   ]
  },
  {
   "cell_type": "markdown",
   "metadata": {},
   "source": [
    "Концепция крайне удобная для обучения  моделей $-$ у Вас есть некий источник данных, который Вам выдает их кусками, и Вам совершенно все равно откуда он их берет. Под ним может скрывать как массив в оперативной памяти, как файл на жестком диске, так и SQL база данных. Вы сами данные никуда не сохраняете, оперативную память экономите."
   ]
  },
  {
   "cell_type": "markdown",
   "metadata": {},
   "source": [
    "Если Вам понравилась идея с генераторами, то Вы можете реализовать свой, используя прототип batch_generator. В нем Вам нужно выдавать батчи признаков и ответов для каждой новой итерации спуска. Если не понравилась идея, то можете реализовывать SGD или mini-batch GD без генераторов."
   ]
  },
  {
   "cell_type": "code",
   "execution_count": 7,
   "metadata": {},
   "outputs": [],
   "source": [
    "def batch_generator(X, y, shuffle=True, batch_size=1):\n",
    "    \"\"\"\n",
    "    Гератор новых батчей для обучения\n",
    "    X          - матрица объекты-признаки\n",
    "    y_batch    - вектор ответов\n",
    "    shuffle    - нужно ли случайно перемешивать выборку\n",
    "    batch_size - размер батча ( 1 это SGD, > 1 mini-batch GD)\n",
    "    Генерирует подвыборку для итерации спуска (X_batch, y_batch)\n",
    "    \"\"\"\n",
    "\n",
    "    order = np.arange(X.shape[0])\n",
    "    np.random.shuffle(order)\n",
    "    X_batch = X[order]\n",
    "    y_batch = y[order]\n",
    "    for i in range((X.shape[0] + batch_size - 1) // batch_size):\n",
    "        batch = range(batch_size * i, min(batch_size * (i + 1), X.shape[0]))\n",
    "        yield (X_batch[batch], y_batch[batch])\n",
    "\n",
    "# Теперь можно сделать генератор по данным ()\n",
    "#  my_batch_generator = batch_generator(X, y, shuffle=True, batch_size=1):"
   ]
  },
  {
   "cell_type": "code",
   "execution_count": 8,
   "metadata": {},
   "outputs": [],
   "source": [
    "#%%pycodestyle\n",
    "\n",
    "\n",
    "from sklearn.base import BaseEstimator, ClassifierMixin\n",
    "\n",
    "\n",
    "def sigmoid(X, w):\n",
    "    \"\"\"\n",
    "    Вычисляем значение сигмоида.\n",
    "    X - матрица объекты-признаки\n",
    "    \"\"\"\n",
    "\n",
    "    # Your code Here\n",
    "    return 1 / (1 + np.exp(-np.dot(X, w)))\n",
    "\n",
    "\n",
    "class MySGDClassifier(BaseEstimator, ClassifierMixin):\n",
    "    \"\"\"\n",
    "    Предполагается, что в выборке всегда 2 класса\n",
    "    \"\"\"\n",
    "\n",
    "    def __init__(self, batch_generator, C=1, alpha=0.01, max_epoch=100, do_log=True):\n",
    "        \"\"\"\n",
    "        batch_generator -- функция генератор, которой будем создавать батчи\n",
    "        C - коэф. регуляризации\n",
    "        alpha - скорость спуска\n",
    "        max_epoch - максимальное количество эпох\n",
    "        \"\"\"\n",
    "\n",
    "        self.C = C\n",
    "        self.alpha = alpha\n",
    "        self.max_epoch = max_epoch\n",
    "        self.batch_generator = batch_generator\n",
    "        self.do_log = do_log\n",
    "        self.errors_log = {'iter': [], 'loss': [],\n",
    "                           'batch_iter': [], 'batch_loss': [],\n",
    "                           'weights': []}\n",
    "        self.eps = 1e-9\n",
    "\n",
    "    def calc_loss(self, X_batch, y_batch):\n",
    "        \"\"\"\n",
    "        Считаем функцию потерь по батчу\n",
    "        X_batch - матрица объекты-признаки по батчу\n",
    "        y_batch - вектор ответов по батчу\n",
    "        \"\"\"\n",
    "\n",
    "        a_i = sigmoid(X_batch, self.weights)\n",
    "        # без eps получим nan, всё равно эта штука нужна\n",
    "        # только для статистики\n",
    "        loss = (y_batch * np.log(a_i + self.eps) + \n",
    "                (1 - y_batch) * np.log(1 - a_i + self.eps))\n",
    "        reg = 1 / self.C * np.sum(np.abs(self.weights))\n",
    "        return -1 / X_batch.shape[0] * np.sum(loss) + reg\n",
    "\n",
    "    def calc_loss_grad(self, X_batch, y_batch):\n",
    "        \"\"\"\n",
    "        Считаем  градиент функции потерь по батчу\n",
    "        (то что Вы вывели в задании 1)\n",
    "        X_batch - матрица объекты-признаки по батчу\n",
    "        y_batch - вектор ответов по батчу\n",
    "        \"\"\"\n",
    "\n",
    "        a_i = sigmoid(X_batch, self.weights)\n",
    "        loss_grad = (X_batch.T * (y_batch - a_i)).T\n",
    "        reg = 1 / self.C * np.sign(self.weights)\n",
    "        return -1 / X_batch.shape[0] * np.sum(loss_grad, axis=0) + reg\n",
    "\n",
    "    def update_weights(self, new_grad):\n",
    "        \"\"\"\n",
    "        Обновляем вектор весов\n",
    "        new_grad - градиент по батчу\n",
    "        \"\"\"\n",
    "\n",
    "        self.max_penalty += 1 / self.C / self.N * self.alpha\n",
    "\n",
    "        self.weights -= self.alpha * new_grad\n",
    "\n",
    "        # cumulative penalty\n",
    "        max_penalty = self.max_penalty\n",
    "        total_penalty = self.total_penalty\n",
    "\n",
    "        N_w = self.weights.shape[0]\n",
    "        down_penalty = self.weights - (max_penalty + total_penalty)\n",
    "        up_penalty = self.weights + (max_penalty - total_penalty)\n",
    "        down_penalty = np.where(down_penalty > 0, down_penalty, np.zeros(N_w))\n",
    "        up_penalty = np.where(up_penalty < 0, up_penalty, np.zeros(N_w))\n",
    "\n",
    "        new_weights = np.where(self.weights > 0, down_penalty, up_penalty)\n",
    "        self.total_penalty += new_weights - self.weights\n",
    "        self.weights = new_weights\n",
    "\n",
    "    def fit(self, X, y):\n",
    "        '''\n",
    "        Обучение модели\n",
    "        X - матрица объекты-признаки\n",
    "        y - вектор ответов\n",
    "        '''\n",
    "\n",
    "        X = np.append(X, np.ones((X.shape[0], 1)), axis=-1)\n",
    "\n",
    "        # Нужно инициализровать случайно веса\n",
    "        self.weights = np.random.random(X.shape[1]) + self.eps\n",
    "        self.max_penalty = 0.0\n",
    "        self.total_penalty = np.zeros(self.weights.shape)\n",
    "        self.K = 0\n",
    "        for n in range(0, self.max_epoch):\n",
    "            new_epoch_generator = self.batch_generator(X, y)\n",
    "            for batch_num, new_batch in enumerate(new_epoch_generator):\n",
    "                X_batch = new_batch[0]\n",
    "                y_batch = new_batch[1]\n",
    "                # для max_loss\n",
    "                self.N = X_batch.shape[0]\n",
    "                self.K += 1\n",
    "                # Подумайте в каком месте стоит посчитать\n",
    "                # ошибку для отладки модели\n",
    "                if self.do_log:\n",
    "                    batch_loss = self.calc_loss(X_batch, y_batch)\n",
    "                    self.errors_log['batch_loss'].append(batch_loss)\n",
    "                    self.errors_log['batch_iter'].append(batch_num)\n",
    "\n",
    "                batch_grad = self.calc_loss_grad(X_batch, y_batch)\n",
    "                self.update_weights(batch_grad)\n",
    "\n",
    "            if self.do_log:\n",
    "                full_loss = self.calc_loss(X, y)\n",
    "                self.errors_log['loss'].append(full_loss)\n",
    "            self.errors_log['iter'].append(n)\n",
    "            self.errors_log['weights'].append(self.weights)\n",
    "\n",
    "        return self\n",
    "\n",
    "    def predict(self, X):\n",
    "        '''\n",
    "        Предсказание класса\n",
    "        X - матрица объекты-признаки\n",
    "        '''\n",
    "\n",
    "        X = np.append(X, np.ones((X.shape[0], 1)), axis=-1)\n",
    "        y_prob = sigmoid(X, self.weights)\n",
    "        return np.where(y_prob > 0.5,\n",
    "                        np.ones(X.shape[0]),\n",
    "                        np.zeros(X.shape[0]))\n",
    "\n",
    "    def predict_proba(self, X):\n",
    "        '''\n",
    "        Предсказание вероятности положительного класса\n",
    "        X - матрица объекты-признаки\n",
    "        '''\n",
    "\n",
    "        X = np.append(X, np.ones((X.shape[0], 1)), axis=-1)\n",
    "        return sigmoid(X, self.weights)\n",
    "\n",
    "    def decision_function(self, X):\n",
    "        return np.dot(X, self.weights[:-1]) + self.weights[-1]\n"
   ]
  },
  {
   "cell_type": "markdown",
   "metadata": {},
   "source": [
    "Запустите ваш алгоритм на синтетических данных. \n",
    "\n",
    "Выведите полученные веса и нарисуйте разделяющую границу между классами (используйте только первых два веса для первых двух признаков X[:,0], X[:,1] для отображения в 2d пространство ).  "
   ]
  },
  {
   "cell_type": "code",
   "execution_count": 9,
   "metadata": {},
   "outputs": [],
   "source": [
    "np.random.seed(0)\n",
    "\n",
    "C1 = np.array([[0., -0.8], [1.5, 0.8]])\n",
    "C2 = np.array([[1., -0.7], [2., 0.7]])\n",
    "gauss1 = np.dot(np.random.randn(200, 2) + np.array([5, 3]), C1)\n",
    "gauss2 = np.dot(np.random.randn(200, 2) + np.array([1.5, 0]), C2)\n",
    "\n",
    "X = np.vstack([gauss1, gauss2])\n",
    "y = np.r_[np.ones(200), np.zeros(200)]"
   ]
  },
  {
   "cell_type": "code",
   "execution_count": 10,
   "metadata": {
    "collapsed": true
   },
   "outputs": [],
   "source": [
    "clf = MySGDClassifier(lambda X, y: batch_generator(X, y, True, 1), 100, 0.01, 30)"
   ]
  },
  {
   "cell_type": "code",
   "execution_count": 11,
   "metadata": {},
   "outputs": [
    {
     "name": "stdout",
     "output_type": "stream",
     "text": [
      "Wall time: 2.03 s\n"
     ]
    },
    {
     "data": {
      "text/plain": [
       "MySGDClassifier(C=100, alpha=0.01,\n",
       "        batch_generator=<function <lambda> at 0x000000000A844F28>,\n",
       "        do_log=True, max_epoch=30)"
      ]
     },
     "execution_count": 11,
     "metadata": {},
     "output_type": "execute_result"
    }
   ],
   "source": [
    "%time clf.fit(X, y)"
   ]
  },
  {
   "cell_type": "code",
   "execution_count": 12,
   "metadata": {},
   "outputs": [
    {
     "data": {
      "text/plain": [
       "array([ 0.81809644, -0.71851877, -3.1583868 ])"
      ]
     },
     "execution_count": 12,
     "metadata": {},
     "output_type": "execute_result"
    }
   ],
   "source": [
    "clf.weights"
   ]
  },
  {
   "cell_type": "code",
   "execution_count": 13,
   "metadata": {},
   "outputs": [
    {
     "data": {
      "text/plain": [
       "[0.55628147431762587,\n",
       " 0.52444213890693392,\n",
       " 0.48813854058327838,\n",
       " 0.46834014941411378,\n",
       " 0.4605021207105896,\n",
       " 0.44214264891502369,\n",
       " 0.43309198055928433,\n",
       " 0.4267559155669477,\n",
       " 0.42765701894047675,\n",
       " 0.41339869234092225,\n",
       " 0.40960071564994976,\n",
       " 0.40948671959760669,\n",
       " 0.4017678043145847,\n",
       " 0.40207981444541391,\n",
       " 0.39948147077652518,\n",
       " 0.39428857023034963,\n",
       " 0.39317023252609573,\n",
       " 0.39398741503582096,\n",
       " 0.38868747646861967,\n",
       " 0.38795810874411019,\n",
       " 0.39846789359490753,\n",
       " 0.39217220100249989,\n",
       " 0.38477492363703014,\n",
       " 0.383487314533769,\n",
       " 0.38236478127082441,\n",
       " 0.38699351872979582,\n",
       " 0.38294748782092158,\n",
       " 0.38130966751051143,\n",
       " 0.38106386463431696,\n",
       " 0.38000864765647907]"
      ]
     },
     "execution_count": 13,
     "metadata": {},
     "output_type": "execute_result"
    }
   ],
   "source": [
    "clf.errors_log['loss']"
   ]
  },
  {
   "cell_type": "code",
   "execution_count": 14,
   "metadata": {},
   "outputs": [
    {
     "name": "stdout",
     "output_type": "stream",
     "text": [
      "[ 0.81809644 -0.71851877 -3.1583868 ]\n",
      "[[ 1.62329568 -1.91054742]]\n"
     ]
    },
    {
     "data": {
      "image/png": "[encoded data removed]",
      "text/plain": [
       "<matplotlib.figure.Figure at 0xa03f390>"
      ]
     },
     "metadata": {},
     "output_type": "display_data"
    }
   ],
   "source": [
    "def plot_decision_boundary(clf):\n",
    "    ax = plt.gca()\n",
    "    x = np.linspace(plt.xlim()[0], plt.xlim()[1], 30)\n",
    "    y = np.linspace(plt.ylim()[0], plt.ylim()[1], 30)\n",
    "    XX, YY = np.meshgrid(x, y)\n",
    "    XY = np.c_[XX.ravel(), YY.ravel()]\n",
    "    \n",
    "    P = clf.decision_function(XY)\n",
    "    P = P.reshape(XX.shape)\n",
    "    \n",
    "    ax.contour(XX, YY, P, colors='r', label='logreg',\n",
    "               levels=[0], alpha=0.5,\n",
    "               linestyles=['-'])\n",
    "\n",
    "plt.scatter(X[:,0], X[:,1], c=y)\n",
    "\n",
    "plot_decision_boundary(clf)\n",
    "\n",
    "from sklearn.linear_model import LogisticRegression\n",
    "\n",
    "log_reg = LogisticRegression(C=100, penalty='l1').fit(X, y)\n",
    "print(clf.weights)\n",
    "print(log_reg.coef_)\n",
    "#plot_decision_boundary(log_reg)"
   ]
  },
  {
   "cell_type": "markdown",
   "metadata": {},
   "source": [
    "Далее будем анализировать Ваш алгоритм. \n",
    "Для этих заданий используйте датасет ниже."
   ]
  },
  {
   "cell_type": "code",
   "execution_count": 15,
   "metadata": {
    "collapsed": true
   },
   "outputs": [],
   "source": [
    "from sklearn.datasets import make_classification"
   ]
  },
  {
   "cell_type": "code",
   "execution_count": 16,
   "metadata": {
    "collapsed": true
   },
   "outputs": [],
   "source": [
    "X, y = make_classification(n_samples=100000, n_features=10, \n",
    "                           n_informative=4, n_redundant=0, \n",
    "                           random_state=123, class_sep=1.0,\n",
    "                           n_clusters_per_class=1)"
   ]
  },
  {
   "cell_type": "markdown",
   "metadata": {},
   "source": [
    "Покажите сходимость вашего метода на этом датасете: изобразите график  функции потерь, усредненной по $N$ шагам градиентого спуска, для разных `alpha` (размеров шага). Разные `alpha` расположите на одном графике. \n",
    "\n",
    "$N$ можно брать 10, 50, 100 и т.д. "
   ]
  },
  {
   "cell_type": "code",
   "execution_count": 17,
   "metadata": {},
   "outputs": [
    {
     "data": {
      "image/png": "[encoded data removed]",
      "text/plain": [
       "<matplotlib.figure.Figure at 0xc7b5208>"
      ]
     },
     "metadata": {},
     "output_type": "display_data"
    }
   ],
   "source": [
    "# для просмотра каждого объекта отдельно на каждой эпохе \n",
    "# для 1000 объектов и 20 эпох уже довольно долго\n",
    "\n",
    "X, y = make_classification(n_samples=1000, n_features=10, \n",
    "                           n_informative=4, n_redundant=0, \n",
    "                           random_state=123, class_sep=1.0,\n",
    "                           n_clusters_per_class=1)\n",
    "\n",
    "alphas = [1, 0.5, 0.2, 0.1, 0.05, 0.02, 0.01]\n",
    "colors = ['r', 'b', 'g', 'y', 'c', 'm', 'k']\n",
    "for alpha, color in zip(alphas, colors):\n",
    "    clf = MySGDClassifier(lambda X, y: batch_generator(X, y, True, 1), 100, alpha, 20)\n",
    "    clf.fit(X, y)\n",
    "    plt.plot(clf.errors_log['loss'], color)"
   ]
  },
  {
   "cell_type": "code",
   "execution_count": 18,
   "metadata": {},
   "outputs": [
    {
     "data": {
      "image/png": "[encoded data removed]",
      "text/plain": [
       "<matplotlib.figure.Figure at 0xc847c18>"
      ]
     },
     "metadata": {},
     "output_type": "display_data"
    }
   ],
   "source": [
    "X, y = make_classification(n_samples=10000, n_features=10, \n",
    "                           n_informative=4, n_redundant=0, \n",
    "                           random_state=123, class_sep=1.0,\n",
    "                           n_clusters_per_class=1)\n",
    "\n",
    "alphas = [1, 0.5, 0.2, 0.1, 0.05, 0.02, 0.01]\n",
    "colors = ['r', 'b', 'g', 'y', 'c', 'm', 'k']\n",
    "for alpha, color in zip(alphas, colors):\n",
    "    clf = MySGDClassifier(lambda X, y: batch_generator(X, y, True, 10), 100, alpha, 20)\n",
    "    clf.fit(X, y)\n",
    "    plt.plot(clf.errors_log['loss'], color)"
   ]
  },
  {
   "cell_type": "markdown",
   "metadata": {},
   "source": [
    "Что Вы можете сказать про сходимость метода при различных `alpha`? Какое значение стоит выбирать для лучшей сходимости?"
   ]
  },
  {
   "cell_type": "markdown",
   "metadata": {},
   "source": [
    "    Как видно из графиков, при больших значениях alpha метод вообще плохо сходится,\n",
    "    а при маленких сходится заметно медленнее.\n",
    "    Самым адекватным выглядит alpha = 0.1 (жёлтый график)\n",
    "    Также видно, что для простого SGD (batch_size = 1) сходимость гораздо хуже, и работает он медленнее,\n",
    "    так что имеет смысл взять batch_size хотя бы 10"
   ]
  },
  {
   "cell_type": "markdown",
   "metadata": {},
   "source": [
    "Изобразите график среднего значения весов модели в зависимости от коеф. регуляризации С из `np.logspace(3, -3, 10)` "
   ]
  },
  {
   "cell_type": "code",
   "execution_count": 19,
   "metadata": {},
   "outputs": [
    {
     "name": "stdout",
     "output_type": "stream",
     "text": [
      "1000.0 215.443469003 46.4158883361 10.0 2.15443469003 0.464158883361 0.1 0.0215443469003 0.00464158883361 0.001 \n"
     ]
    },
    {
     "data": {
      "text/plain": [
       "[<matplotlib.lines.Line2D at 0xcd49748>]"
      ]
     },
     "execution_count": 19,
     "metadata": {},
     "output_type": "execute_result"
    },
    {
     "data": {
      "image/png": "[encoded data removed]",
      "text/plain": [
       "<matplotlib.figure.Figure at 0xcc48940>"
      ]
     },
     "metadata": {},
     "output_type": "display_data"
    }
   ],
   "source": [
    "avg_w = []\n",
    "losses = []\n",
    "C = np.logspace(3, -3, 10)\n",
    "for c in C:\n",
    "    print(c, end = ' ')\n",
    "    clf = MySGDClassifier(lambda X, y: batch_generator(X, y, True, 100), c, alpha, 20)\n",
    "    clf.fit(X, y)\n",
    "    avg_w.append(np.average(np.abs(clf.weights)))\n",
    "    losses.append(clf.errors_log['loss'][-1])\n",
    "print()\n",
    "plt.plot(avg_w, 'r')\n",
    "plt.plot(losses, 'b')"
   ]
  },
  {
   "cell_type": "markdown",
   "metadata": {},
   "source": [
    "Довольны ли Вы, насколько сильно уменьшились Ваши веса? Если нет, то как можно было бы уменьшать их еще сильнее?"
   ]
  },
  {
   "cell_type": "markdown",
   "metadata": {},
   "source": [
    "    Слишком низкое значение С слишком сильно штрафует модель в ущерб её качеству.\n",
    "    самым адекватным выглядит значение C в районе 100"
   ]
  },
  {
   "cell_type": "markdown",
   "metadata": {},
   "source": [
    "# Боевое применение (2  балла)"
   ]
  },
  {
   "cell_type": "markdown",
   "metadata": {},
   "source": [
    "## О hearthstone"
   ]
  },
  {
   "cell_type": "markdown",
   "metadata": {},
   "source": [
    "[Hearthstone](http://eu.battle.net/hearthstone/ru/) - карточная онлайн игра по мотивам вселенной Warcraft.\n",
    "\n",
    "Каждый игрок играет за персонажа определенного класса и собирает колоду карт которую может разыгрывать во время игры. Для дальнейших деталей обратитесь к [wiki](https://ru.wikipedia.org/wiki/Hearthstone), посмотрите youtube или поиграйте сами (но не долго =) ).\n",
    "\n",
    "Теми или иными способами игрок может отнимать жизни у своего оппонента, таким образом цель раунда - побить другого игрока."
   ]
  },
  {
   "cell_type": "markdown",
   "metadata": {},
   "source": [
    "<center><img src='http://ps3hits.ru/wp-content/uploads/2015/08/hearthstone-game-sshot-1.jpg'></center>"
   ]
  },
  {
   "cell_type": "markdown",
   "metadata": {},
   "source": [
    "## Постановка задачи"
   ]
  },
  {
   "cell_type": "markdown",
   "metadata": {},
   "source": [
    "В рамках конференции [AAIA 17](https://fedcsis.org/2017/aaia) было запущено [соревнование](https://knowledgepit.fedcsis.org/contest/view.php?id=120) по предсказанию исхода раунда в heartstone. \n",
    "\n",
    "Используя признаки, которые описывают текущее состояние раунда необходимо предсказать **вероятность** победы игрока в этом раунде.\n",
    "\n",
    "Качество модели измеряется с помощью **ROC-AUC**"
   ]
  },
  {
   "cell_type": "markdown",
   "metadata": {},
   "source": [
    "## Данные\n",
    "\n",
    "Обучающую выборку и тестовую выборку с ответами можно скачать [отсюда](https://cloud.mail.ru/public/BEon/4Rrdqqvng)\n",
    "\n",
    "Данные содержат набор информации о раунде в некоторый момент времени: жизни игрока и оппонента, номер хода, карты на столе, карты в руке игрока, количество карт в руке оппонента и тп.<br/>\n",
    "По игроку №1 (далее просто **игрок**) помимо всего прочего известен набор карт \"в руке\".</br>\n",
    "По игроку №2 (далее просто **оппонент**) эта информация отсутствует.</br>\n",
    "\n",
    "\n",
    "В данных для обучению содержится 2 млн. игр, разбитых на 4 файла. Названия признаков говорят сами за себя.\n",
    "Целевой признак - `decision` (1 - победил игрок, 0 - победил оппонент)."
   ]
  },
  {
   "cell_type": "code",
   "execution_count": 20,
   "metadata": {
    "collapsed": true
   },
   "outputs": [],
   "source": [
    "# Загрузка данных для обучения\n",
    "filepath = 'trainingData_tabular/trainingData_tabular_chunk1.csv'\n",
    "df_data = pd.read_csv(filepath, sep=',')"
   ]
  },
  {
   "cell_type": "code",
   "execution_count": 21,
   "metadata": {},
   "outputs": [
    {
     "data": {
      "text/html": [
       "<div>\n",
       "<style>\n",
       "    .dataframe thead tr:only-child th {\n",
       "        text-align: right;\n",
       "    }\n",
       "\n",
       "    .dataframe thead th {\n",
       "        text-align: left;\n",
       "    }\n",
       "\n",
       "    .dataframe tbody tr th {\n",
       "        vertical-align: top;\n",
       "    }\n",
       "</style>\n",
       "<table border=\"1\" class=\"dataframe\">\n",
       "  <thead>\n",
       "    <tr style=\"text-align: right;\">\n",
       "      <th></th>\n",
       "      <th>gamestate_id</th>\n",
       "      <th>decision</th>\n",
       "      <th>turn</th>\n",
       "      <th>opponent.armor</th>\n",
       "      <th>opponent.attack</th>\n",
       "      <th>opponent.hero_card_id</th>\n",
       "      <th>opponent.hp</th>\n",
       "      <th>opponent.special_skill_used</th>\n",
       "      <th>opponent.weapon_durability</th>\n",
       "      <th>opponent.crystals_all</th>\n",
       "      <th>...</th>\n",
       "      <th>player.played.hp_current</th>\n",
       "      <th>player.played.hp_max</th>\n",
       "      <th>player.hand.nOfMinions</th>\n",
       "      <th>player.hand.nOfSpells</th>\n",
       "      <th>player.hand.nOfWeapons</th>\n",
       "      <th>player.hand.nOfCards</th>\n",
       "      <th>player.hand.nOfPlayable</th>\n",
       "      <th>player.hand.attack</th>\n",
       "      <th>player.hand.crystals_cost</th>\n",
       "      <th>player.hand.hp</th>\n",
       "    </tr>\n",
       "  </thead>\n",
       "  <tbody>\n",
       "    <tr>\n",
       "      <th>0</th>\n",
       "      <td>4687346</td>\n",
       "      <td>1</td>\n",
       "      <td>14</td>\n",
       "      <td>0</td>\n",
       "      <td>0</td>\n",
       "      <td>798</td>\n",
       "      <td>5</td>\n",
       "      <td>0</td>\n",
       "      <td>0</td>\n",
       "      <td>10</td>\n",
       "      <td>...</td>\n",
       "      <td>20</td>\n",
       "      <td>23</td>\n",
       "      <td>4</td>\n",
       "      <td>0</td>\n",
       "      <td>1</td>\n",
       "      <td>5</td>\n",
       "      <td>0</td>\n",
       "      <td>20</td>\n",
       "      <td>22</td>\n",
       "      <td>17</td>\n",
       "    </tr>\n",
       "    <tr>\n",
       "      <th>1</th>\n",
       "      <td>3270826</td>\n",
       "      <td>1</td>\n",
       "      <td>7</td>\n",
       "      <td>0</td>\n",
       "      <td>0</td>\n",
       "      <td>754</td>\n",
       "      <td>22</td>\n",
       "      <td>0</td>\n",
       "      <td>0</td>\n",
       "      <td>6</td>\n",
       "      <td>...</td>\n",
       "      <td>16</td>\n",
       "      <td>17</td>\n",
       "      <td>3</td>\n",
       "      <td>2</td>\n",
       "      <td>2</td>\n",
       "      <td>7</td>\n",
       "      <td>0</td>\n",
       "      <td>17</td>\n",
       "      <td>26</td>\n",
       "      <td>20</td>\n",
       "    </tr>\n",
       "    <tr>\n",
       "      <th>2</th>\n",
       "      <td>3189487</td>\n",
       "      <td>1</td>\n",
       "      <td>5</td>\n",
       "      <td>3</td>\n",
       "      <td>0</td>\n",
       "      <td>612</td>\n",
       "      <td>29</td>\n",
       "      <td>0</td>\n",
       "      <td>0</td>\n",
       "      <td>4</td>\n",
       "      <td>...</td>\n",
       "      <td>0</td>\n",
       "      <td>0</td>\n",
       "      <td>5</td>\n",
       "      <td>0</td>\n",
       "      <td>0</td>\n",
       "      <td>5</td>\n",
       "      <td>2</td>\n",
       "      <td>26</td>\n",
       "      <td>28</td>\n",
       "      <td>27</td>\n",
       "    </tr>\n",
       "    <tr>\n",
       "      <th>3</th>\n",
       "      <td>4098946</td>\n",
       "      <td>1</td>\n",
       "      <td>8</td>\n",
       "      <td>0</td>\n",
       "      <td>0</td>\n",
       "      <td>390</td>\n",
       "      <td>26</td>\n",
       "      <td>0</td>\n",
       "      <td>0</td>\n",
       "      <td>7</td>\n",
       "      <td>...</td>\n",
       "      <td>2</td>\n",
       "      <td>2</td>\n",
       "      <td>7</td>\n",
       "      <td>1</td>\n",
       "      <td>1</td>\n",
       "      <td>9</td>\n",
       "      <td>9</td>\n",
       "      <td>36</td>\n",
       "      <td>44</td>\n",
       "      <td>36</td>\n",
       "    </tr>\n",
       "    <tr>\n",
       "      <th>4</th>\n",
       "      <td>2661127</td>\n",
       "      <td>0</td>\n",
       "      <td>13</td>\n",
       "      <td>0</td>\n",
       "      <td>0</td>\n",
       "      <td>25</td>\n",
       "      <td>30</td>\n",
       "      <td>0</td>\n",
       "      <td>0</td>\n",
       "      <td>10</td>\n",
       "      <td>...</td>\n",
       "      <td>7</td>\n",
       "      <td>7</td>\n",
       "      <td>4</td>\n",
       "      <td>0</td>\n",
       "      <td>0</td>\n",
       "      <td>4</td>\n",
       "      <td>4</td>\n",
       "      <td>13</td>\n",
       "      <td>13</td>\n",
       "      <td>14</td>\n",
       "    </tr>\n",
       "  </tbody>\n",
       "</table>\n",
       "<p>5 rows × 45 columns</p>\n",
       "</div>"
      ],
      "text/plain": [
       "   gamestate_id  decision  turn  opponent.armor  opponent.attack  \\\n",
       "0       4687346         1    14               0                0   \n",
       "1       3270826         1     7               0                0   \n",
       "2       3189487         1     5               3                0   \n",
       "3       4098946         1     8               0                0   \n",
       "4       2661127         0    13               0                0   \n",
       "\n",
       "   opponent.hero_card_id  opponent.hp  opponent.special_skill_used  \\\n",
       "0                    798            5                            0   \n",
       "1                    754           22                            0   \n",
       "2                    612           29                            0   \n",
       "3                    390           26                            0   \n",
       "4                     25           30                            0   \n",
       "\n",
       "   opponent.weapon_durability  opponent.crystals_all       ...        \\\n",
       "0                           0                     10       ...         \n",
       "1                           0                      6       ...         \n",
       "2                           0                      4       ...         \n",
       "3                           0                      7       ...         \n",
       "4                           0                     10       ...         \n",
       "\n",
       "   player.played.hp_current  player.played.hp_max  player.hand.nOfMinions  \\\n",
       "0                        20                    23                       4   \n",
       "1                        16                    17                       3   \n",
       "2                         0                     0                       5   \n",
       "3                         2                     2                       7   \n",
       "4                         7                     7                       4   \n",
       "\n",
       "   player.hand.nOfSpells  player.hand.nOfWeapons  player.hand.nOfCards  \\\n",
       "0                      0                       1                     5   \n",
       "1                      2                       2                     7   \n",
       "2                      0                       0                     5   \n",
       "3                      1                       1                     9   \n",
       "4                      0                       0                     4   \n",
       "\n",
       "   player.hand.nOfPlayable  player.hand.attack  player.hand.crystals_cost  \\\n",
       "0                        0                  20                         22   \n",
       "1                        0                  17                         26   \n",
       "2                        2                  26                         28   \n",
       "3                        9                  36                         44   \n",
       "4                        4                  13                         13   \n",
       "\n",
       "   player.hand.hp  \n",
       "0              17  \n",
       "1              20  \n",
       "2              27  \n",
       "3              36  \n",
       "4              14  \n",
       "\n",
       "[5 rows x 45 columns]"
      ]
     },
     "execution_count": 21,
     "metadata": {},
     "output_type": "execute_result"
    }
   ],
   "source": [
    "df_data.head()"
   ]
  },
  {
   "cell_type": "code",
   "execution_count": 22,
   "metadata": {
    "collapsed": true
   },
   "outputs": [],
   "source": [
    "# для удобства\n",
    "df_data.columns = df_data.columns.str.replace('.', '_')\n",
    "df_data = df_data.set_index('gamestate_id')"
   ]
  },
  {
   "cell_type": "code",
   "execution_count": 23,
   "metadata": {},
   "outputs": [
    {
     "data": {
      "text/html": [
       "<div>\n",
       "<style>\n",
       "    .dataframe thead tr:only-child th {\n",
       "        text-align: right;\n",
       "    }\n",
       "\n",
       "    .dataframe thead th {\n",
       "        text-align: left;\n",
       "    }\n",
       "\n",
       "    .dataframe tbody tr th {\n",
       "        vertical-align: top;\n",
       "    }\n",
       "</style>\n",
       "<table border=\"1\" class=\"dataframe\">\n",
       "  <thead>\n",
       "    <tr style=\"text-align: right;\">\n",
       "      <th>gamestate_id</th>\n",
       "      <th>4687346</th>\n",
       "      <th>3270826</th>\n",
       "      <th>3189487</th>\n",
       "      <th>4098946</th>\n",
       "      <th>2661127</th>\n",
       "    </tr>\n",
       "  </thead>\n",
       "  <tbody>\n",
       "    <tr>\n",
       "      <th>decision</th>\n",
       "      <td>1</td>\n",
       "      <td>1</td>\n",
       "      <td>1</td>\n",
       "      <td>1</td>\n",
       "      <td>0</td>\n",
       "    </tr>\n",
       "    <tr>\n",
       "      <th>turn</th>\n",
       "      <td>14</td>\n",
       "      <td>7</td>\n",
       "      <td>5</td>\n",
       "      <td>8</td>\n",
       "      <td>13</td>\n",
       "    </tr>\n",
       "    <tr>\n",
       "      <th>opponent_armor</th>\n",
       "      <td>0</td>\n",
       "      <td>0</td>\n",
       "      <td>3</td>\n",
       "      <td>0</td>\n",
       "      <td>0</td>\n",
       "    </tr>\n",
       "    <tr>\n",
       "      <th>opponent_attack</th>\n",
       "      <td>0</td>\n",
       "      <td>0</td>\n",
       "      <td>0</td>\n",
       "      <td>0</td>\n",
       "      <td>0</td>\n",
       "    </tr>\n",
       "    <tr>\n",
       "      <th>opponent_hero_card_id</th>\n",
       "      <td>798</td>\n",
       "      <td>754</td>\n",
       "      <td>612</td>\n",
       "      <td>390</td>\n",
       "      <td>25</td>\n",
       "    </tr>\n",
       "    <tr>\n",
       "      <th>opponent_hp</th>\n",
       "      <td>5</td>\n",
       "      <td>22</td>\n",
       "      <td>29</td>\n",
       "      <td>26</td>\n",
       "      <td>30</td>\n",
       "    </tr>\n",
       "    <tr>\n",
       "      <th>opponent_special_skill_used</th>\n",
       "      <td>0</td>\n",
       "      <td>0</td>\n",
       "      <td>0</td>\n",
       "      <td>0</td>\n",
       "      <td>0</td>\n",
       "    </tr>\n",
       "    <tr>\n",
       "      <th>opponent_weapon_durability</th>\n",
       "      <td>0</td>\n",
       "      <td>0</td>\n",
       "      <td>0</td>\n",
       "      <td>0</td>\n",
       "      <td>0</td>\n",
       "    </tr>\n",
       "    <tr>\n",
       "      <th>opponent_crystals_all</th>\n",
       "      <td>10</td>\n",
       "      <td>6</td>\n",
       "      <td>4</td>\n",
       "      <td>7</td>\n",
       "      <td>10</td>\n",
       "    </tr>\n",
       "    <tr>\n",
       "      <th>opponent_crystals_current</th>\n",
       "      <td>10</td>\n",
       "      <td>6</td>\n",
       "      <td>1</td>\n",
       "      <td>7</td>\n",
       "      <td>1</td>\n",
       "    </tr>\n",
       "    <tr>\n",
       "      <th>opponent_deck_count</th>\n",
       "      <td>11</td>\n",
       "      <td>19</td>\n",
       "      <td>22</td>\n",
       "      <td>17</td>\n",
       "      <td>12</td>\n",
       "    </tr>\n",
       "    <tr>\n",
       "      <th>opponent_fatigue_damage</th>\n",
       "      <td>0</td>\n",
       "      <td>0</td>\n",
       "      <td>0</td>\n",
       "      <td>0</td>\n",
       "      <td>0</td>\n",
       "    </tr>\n",
       "    <tr>\n",
       "      <th>opponent_hand_count</th>\n",
       "      <td>2</td>\n",
       "      <td>8</td>\n",
       "      <td>4</td>\n",
       "      <td>7</td>\n",
       "      <td>3</td>\n",
       "    </tr>\n",
       "    <tr>\n",
       "      <th>opponent_played_minions_count</th>\n",
       "      <td>1</td>\n",
       "      <td>1</td>\n",
       "      <td>2</td>\n",
       "      <td>0</td>\n",
       "      <td>4</td>\n",
       "    </tr>\n",
       "    <tr>\n",
       "      <th>player_armor</th>\n",
       "      <td>0</td>\n",
       "      <td>0</td>\n",
       "      <td>1</td>\n",
       "      <td>0</td>\n",
       "      <td>0</td>\n",
       "    </tr>\n",
       "    <tr>\n",
       "      <th>player_attack</th>\n",
       "      <td>0</td>\n",
       "      <td>0</td>\n",
       "      <td>0</td>\n",
       "      <td>0</td>\n",
       "      <td>0</td>\n",
       "    </tr>\n",
       "    <tr>\n",
       "      <th>player_hero_card_id</th>\n",
       "      <td>981</td>\n",
       "      <td>754</td>\n",
       "      <td>612</td>\n",
       "      <td>981</td>\n",
       "      <td>494</td>\n",
       "    </tr>\n",
       "    <tr>\n",
       "      <th>player_hp</th>\n",
       "      <td>17</td>\n",
       "      <td>29</td>\n",
       "      <td>30</td>\n",
       "      <td>26</td>\n",
       "      <td>8</td>\n",
       "    </tr>\n",
       "    <tr>\n",
       "      <th>player_special_skill_used</th>\n",
       "      <td>1</td>\n",
       "      <td>0</td>\n",
       "      <td>0</td>\n",
       "      <td>0</td>\n",
       "      <td>0</td>\n",
       "    </tr>\n",
       "    <tr>\n",
       "      <th>player_weapon_durability</th>\n",
       "      <td>0</td>\n",
       "      <td>0</td>\n",
       "      <td>0</td>\n",
       "      <td>0</td>\n",
       "      <td>0</td>\n",
       "    </tr>\n",
       "    <tr>\n",
       "      <th>player_crystals_all</th>\n",
       "      <td>10</td>\n",
       "      <td>7</td>\n",
       "      <td>6</td>\n",
       "      <td>8</td>\n",
       "      <td>10</td>\n",
       "    </tr>\n",
       "    <tr>\n",
       "      <th>player_crystals_current</th>\n",
       "      <td>0</td>\n",
       "      <td>0</td>\n",
       "      <td>5</td>\n",
       "      <td>8</td>\n",
       "      <td>10</td>\n",
       "    </tr>\n",
       "    <tr>\n",
       "      <th>player_deck_count</th>\n",
       "      <td>12</td>\n",
       "      <td>18</td>\n",
       "      <td>22</td>\n",
       "      <td>19</td>\n",
       "      <td>14</td>\n",
       "    </tr>\n",
       "    <tr>\n",
       "      <th>player_fatigue_damage</th>\n",
       "      <td>0</td>\n",
       "      <td>0</td>\n",
       "      <td>0</td>\n",
       "      <td>0</td>\n",
       "      <td>0</td>\n",
       "    </tr>\n",
       "    <tr>\n",
       "      <th>player_hand_count</th>\n",
       "      <td>5</td>\n",
       "      <td>7</td>\n",
       "      <td>5</td>\n",
       "      <td>9</td>\n",
       "      <td>4</td>\n",
       "    </tr>\n",
       "    <tr>\n",
       "      <th>player_played_minions_count</th>\n",
       "      <td>5</td>\n",
       "      <td>5</td>\n",
       "      <td>0</td>\n",
       "      <td>1</td>\n",
       "      <td>1</td>\n",
       "    </tr>\n",
       "    <tr>\n",
       "      <th>opponent_played_nOfCards</th>\n",
       "      <td>1</td>\n",
       "      <td>1</td>\n",
       "      <td>2</td>\n",
       "      <td>0</td>\n",
       "      <td>4</td>\n",
       "    </tr>\n",
       "    <tr>\n",
       "      <th>opponent_played_attack</th>\n",
       "      <td>2</td>\n",
       "      <td>2</td>\n",
       "      <td>8</td>\n",
       "      <td>0</td>\n",
       "      <td>15</td>\n",
       "    </tr>\n",
       "    <tr>\n",
       "      <th>opponent_played_crystals_cost</th>\n",
       "      <td>4</td>\n",
       "      <td>4</td>\n",
       "      <td>5</td>\n",
       "      <td>0</td>\n",
       "      <td>14</td>\n",
       "    </tr>\n",
       "    <tr>\n",
       "      <th>opponent_played_hp_current</th>\n",
       "      <td>6</td>\n",
       "      <td>2</td>\n",
       "      <td>8</td>\n",
       "      <td>0</td>\n",
       "      <td>16</td>\n",
       "    </tr>\n",
       "    <tr>\n",
       "      <th>opponent_played_hp_max</th>\n",
       "      <td>8</td>\n",
       "      <td>4</td>\n",
       "      <td>8</td>\n",
       "      <td>0</td>\n",
       "      <td>16</td>\n",
       "    </tr>\n",
       "    <tr>\n",
       "      <th>player_played_nOfCards</th>\n",
       "      <td>5</td>\n",
       "      <td>5</td>\n",
       "      <td>0</td>\n",
       "      <td>1</td>\n",
       "      <td>1</td>\n",
       "    </tr>\n",
       "    <tr>\n",
       "      <th>player_played_attack</th>\n",
       "      <td>21</td>\n",
       "      <td>10</td>\n",
       "      <td>0</td>\n",
       "      <td>3</td>\n",
       "      <td>6</td>\n",
       "    </tr>\n",
       "    <tr>\n",
       "      <th>player_played_crystals_cost</th>\n",
       "      <td>20</td>\n",
       "      <td>16</td>\n",
       "      <td>0</td>\n",
       "      <td>2</td>\n",
       "      <td>6</td>\n",
       "    </tr>\n",
       "    <tr>\n",
       "      <th>player_played_hp_current</th>\n",
       "      <td>20</td>\n",
       "      <td>16</td>\n",
       "      <td>0</td>\n",
       "      <td>2</td>\n",
       "      <td>7</td>\n",
       "    </tr>\n",
       "    <tr>\n",
       "      <th>player_played_hp_max</th>\n",
       "      <td>23</td>\n",
       "      <td>17</td>\n",
       "      <td>0</td>\n",
       "      <td>2</td>\n",
       "      <td>7</td>\n",
       "    </tr>\n",
       "    <tr>\n",
       "      <th>player_hand_nOfMinions</th>\n",
       "      <td>4</td>\n",
       "      <td>3</td>\n",
       "      <td>5</td>\n",
       "      <td>7</td>\n",
       "      <td>4</td>\n",
       "    </tr>\n",
       "    <tr>\n",
       "      <th>player_hand_nOfSpells</th>\n",
       "      <td>0</td>\n",
       "      <td>2</td>\n",
       "      <td>0</td>\n",
       "      <td>1</td>\n",
       "      <td>0</td>\n",
       "    </tr>\n",
       "    <tr>\n",
       "      <th>player_hand_nOfWeapons</th>\n",
       "      <td>1</td>\n",
       "      <td>2</td>\n",
       "      <td>0</td>\n",
       "      <td>1</td>\n",
       "      <td>0</td>\n",
       "    </tr>\n",
       "    <tr>\n",
       "      <th>player_hand_nOfCards</th>\n",
       "      <td>5</td>\n",
       "      <td>7</td>\n",
       "      <td>5</td>\n",
       "      <td>9</td>\n",
       "      <td>4</td>\n",
       "    </tr>\n",
       "    <tr>\n",
       "      <th>player_hand_nOfPlayable</th>\n",
       "      <td>0</td>\n",
       "      <td>0</td>\n",
       "      <td>2</td>\n",
       "      <td>9</td>\n",
       "      <td>4</td>\n",
       "    </tr>\n",
       "    <tr>\n",
       "      <th>player_hand_attack</th>\n",
       "      <td>20</td>\n",
       "      <td>17</td>\n",
       "      <td>26</td>\n",
       "      <td>36</td>\n",
       "      <td>13</td>\n",
       "    </tr>\n",
       "    <tr>\n",
       "      <th>player_hand_crystals_cost</th>\n",
       "      <td>22</td>\n",
       "      <td>26</td>\n",
       "      <td>28</td>\n",
       "      <td>44</td>\n",
       "      <td>13</td>\n",
       "    </tr>\n",
       "    <tr>\n",
       "      <th>player_hand_hp</th>\n",
       "      <td>17</td>\n",
       "      <td>20</td>\n",
       "      <td>27</td>\n",
       "      <td>36</td>\n",
       "      <td>14</td>\n",
       "    </tr>\n",
       "  </tbody>\n",
       "</table>\n",
       "</div>"
      ],
      "text/plain": [
       "gamestate_id                   4687346  3270826  3189487  4098946  2661127\n",
       "decision                             1        1        1        1        0\n",
       "turn                                14        7        5        8       13\n",
       "opponent_armor                       0        0        3        0        0\n",
       "opponent_attack                      0        0        0        0        0\n",
       "opponent_hero_card_id              798      754      612      390       25\n",
       "opponent_hp                          5       22       29       26       30\n",
       "opponent_special_skill_used          0        0        0        0        0\n",
       "opponent_weapon_durability           0        0        0        0        0\n",
       "opponent_crystals_all               10        6        4        7       10\n",
       "opponent_crystals_current           10        6        1        7        1\n",
       "opponent_deck_count                 11       19       22       17       12\n",
       "opponent_fatigue_damage              0        0        0        0        0\n",
       "opponent_hand_count                  2        8        4        7        3\n",
       "opponent_played_minions_count        1        1        2        0        4\n",
       "player_armor                         0        0        1        0        0\n",
       "player_attack                        0        0        0        0        0\n",
       "player_hero_card_id                981      754      612      981      494\n",
       "player_hp                           17       29       30       26        8\n",
       "player_special_skill_used            1        0        0        0        0\n",
       "player_weapon_durability             0        0        0        0        0\n",
       "player_crystals_all                 10        7        6        8       10\n",
       "player_crystals_current              0        0        5        8       10\n",
       "player_deck_count                   12       18       22       19       14\n",
       "player_fatigue_damage                0        0        0        0        0\n",
       "player_hand_count                    5        7        5        9        4\n",
       "player_played_minions_count          5        5        0        1        1\n",
       "opponent_played_nOfCards             1        1        2        0        4\n",
       "opponent_played_attack               2        2        8        0       15\n",
       "opponent_played_crystals_cost        4        4        5        0       14\n",
       "opponent_played_hp_current           6        2        8        0       16\n",
       "opponent_played_hp_max               8        4        8        0       16\n",
       "player_played_nOfCards               5        5        0        1        1\n",
       "player_played_attack                21       10        0        3        6\n",
       "player_played_crystals_cost         20       16        0        2        6\n",
       "player_played_hp_current            20       16        0        2        7\n",
       "player_played_hp_max                23       17        0        2        7\n",
       "player_hand_nOfMinions               4        3        5        7        4\n",
       "player_hand_nOfSpells                0        2        0        1        0\n",
       "player_hand_nOfWeapons               1        2        0        1        0\n",
       "player_hand_nOfCards                 5        7        5        9        4\n",
       "player_hand_nOfPlayable              0        0        2        9        4\n",
       "player_hand_attack                  20       17       26       36       13\n",
       "player_hand_crystals_cost           22       26       28       44       13\n",
       "player_hand_hp                      17       20       27       36       14"
      ]
     },
     "execution_count": 23,
     "metadata": {},
     "output_type": "execute_result"
    }
   ],
   "source": [
    "df_data.head().T"
   ]
  },
  {
   "cell_type": "code",
   "execution_count": 24,
   "metadata": {},
   "outputs": [
    {
     "data": {
      "text/plain": [
       "0.504702"
      ]
     },
     "execution_count": 24,
     "metadata": {},
     "output_type": "execute_result"
    }
   ],
   "source": [
    "# Распределение классов\n",
    "df_data.decision.mean()\n",
    "# Примерно поровну"
   ]
  },
  {
   "cell_type": "markdown",
   "metadata": {},
   "source": [
    "## Обучение модели"
   ]
  },
  {
   "cell_type": "markdown",
   "metadata": {},
   "source": [
    "* Получите матрицу объект признак `X` и вектор целевого признака `y`\n",
    "* Преобразуйте категориальные переменные с помощью one-hot кодирования, добавьте к датасету и удалите прежние столбцы. (Вы точно понимаете, зачем это нужно сделать? Если нет, спросите обязательно преподавателя!)\n",
    "* Стандартизируйте признаки с помощью `StandartScaller` из sklearn (Вы точно понимаете, зачем это нужно сделать? Если нет, спросите обязательно преподавателя!)\n",
    "* Обучите модель, подбирая параметры на отложенном контроле"
   ]
  },
  {
   "cell_type": "code",
   "execution_count": 25,
   "metadata": {},
   "outputs": [],
   "source": [
    "def get_X_y(df_data):\n",
    "    y = df_data.decision\n",
    "    X = df_data.drop(labels=[\"decision\"], axis=1)\n",
    "\n",
    "    # тонкая грань между категориальными и не категориальными признаками...\n",
    "    # 3 признака с пятью значениями выглядят уже не категориальными\n",
    "    # (прочность оружия игрока и оппонента и количество оружия в руке игрока)\n",
    "    MAX_CATEGORIAL = 5\n",
    "    categorial = []\n",
    "    for field in X.columns:\n",
    "        vals = sorted(X[field].unique())\n",
    "        if (vals == list(range(len(vals)))) and (len(vals) <= MAX_CATEGORIAL):\n",
    "            categorial.append(field)\n",
    "    # print(len(categorial), 'from', len(X.columns), 'are categorical')\n",
    "\n",
    "\n",
    "    for field in categorial:\n",
    "        cats = sorted(X[field].unique())\n",
    "        # выкидываем одно значение для избежания линейной зависимости\n",
    "        for elem in cats[1:]:\n",
    "            X[field + '_' + str(elem)] = (X[field] == elem).astype('int')\n",
    "        X = X.drop(labels=[field], axis=1)\n",
    "    return X, y"
   ]
  },
  {
   "cell_type": "code",
   "execution_count": 26,
   "metadata": {},
   "outputs": [
    {
     "name": "stdout",
     "output_type": "stream",
     "text": [
      "52\n"
     ]
    },
    {
     "data": {
      "text/html": [
       "<div>\n",
       "<style>\n",
       "    .dataframe thead tr:only-child th {\n",
       "        text-align: right;\n",
       "    }\n",
       "\n",
       "    .dataframe thead th {\n",
       "        text-align: left;\n",
       "    }\n",
       "\n",
       "    .dataframe tbody tr th {\n",
       "        vertical-align: top;\n",
       "    }\n",
       "</style>\n",
       "<table border=\"1\" class=\"dataframe\">\n",
       "  <thead>\n",
       "    <tr style=\"text-align: right;\">\n",
       "      <th>gamestate_id</th>\n",
       "      <th>4687346</th>\n",
       "      <th>3270826</th>\n",
       "      <th>3189487</th>\n",
       "      <th>4098946</th>\n",
       "      <th>2661127</th>\n",
       "    </tr>\n",
       "  </thead>\n",
       "  <tbody>\n",
       "    <tr>\n",
       "      <th>turn</th>\n",
       "      <td>14</td>\n",
       "      <td>7</td>\n",
       "      <td>5</td>\n",
       "      <td>8</td>\n",
       "      <td>13</td>\n",
       "    </tr>\n",
       "    <tr>\n",
       "      <th>opponent_armor</th>\n",
       "      <td>0</td>\n",
       "      <td>0</td>\n",
       "      <td>3</td>\n",
       "      <td>0</td>\n",
       "      <td>0</td>\n",
       "    </tr>\n",
       "    <tr>\n",
       "      <th>opponent_attack</th>\n",
       "      <td>0</td>\n",
       "      <td>0</td>\n",
       "      <td>0</td>\n",
       "      <td>0</td>\n",
       "      <td>0</td>\n",
       "    </tr>\n",
       "    <tr>\n",
       "      <th>opponent_hero_card_id</th>\n",
       "      <td>798</td>\n",
       "      <td>754</td>\n",
       "      <td>612</td>\n",
       "      <td>390</td>\n",
       "      <td>25</td>\n",
       "    </tr>\n",
       "    <tr>\n",
       "      <th>opponent_hp</th>\n",
       "      <td>5</td>\n",
       "      <td>22</td>\n",
       "      <td>29</td>\n",
       "      <td>26</td>\n",
       "      <td>30</td>\n",
       "    </tr>\n",
       "    <tr>\n",
       "      <th>opponent_crystals_all</th>\n",
       "      <td>10</td>\n",
       "      <td>6</td>\n",
       "      <td>4</td>\n",
       "      <td>7</td>\n",
       "      <td>10</td>\n",
       "    </tr>\n",
       "    <tr>\n",
       "      <th>opponent_crystals_current</th>\n",
       "      <td>10</td>\n",
       "      <td>6</td>\n",
       "      <td>1</td>\n",
       "      <td>7</td>\n",
       "      <td>1</td>\n",
       "    </tr>\n",
       "    <tr>\n",
       "      <th>opponent_deck_count</th>\n",
       "      <td>11</td>\n",
       "      <td>19</td>\n",
       "      <td>22</td>\n",
       "      <td>17</td>\n",
       "      <td>12</td>\n",
       "    </tr>\n",
       "    <tr>\n",
       "      <th>opponent_fatigue_damage</th>\n",
       "      <td>0</td>\n",
       "      <td>0</td>\n",
       "      <td>0</td>\n",
       "      <td>0</td>\n",
       "      <td>0</td>\n",
       "    </tr>\n",
       "    <tr>\n",
       "      <th>opponent_hand_count</th>\n",
       "      <td>2</td>\n",
       "      <td>8</td>\n",
       "      <td>4</td>\n",
       "      <td>7</td>\n",
       "      <td>3</td>\n",
       "    </tr>\n",
       "    <tr>\n",
       "      <th>opponent_played_minions_count</th>\n",
       "      <td>1</td>\n",
       "      <td>1</td>\n",
       "      <td>2</td>\n",
       "      <td>0</td>\n",
       "      <td>4</td>\n",
       "    </tr>\n",
       "    <tr>\n",
       "      <th>player_armor</th>\n",
       "      <td>0</td>\n",
       "      <td>0</td>\n",
       "      <td>1</td>\n",
       "      <td>0</td>\n",
       "      <td>0</td>\n",
       "    </tr>\n",
       "    <tr>\n",
       "      <th>player_attack</th>\n",
       "      <td>0</td>\n",
       "      <td>0</td>\n",
       "      <td>0</td>\n",
       "      <td>0</td>\n",
       "      <td>0</td>\n",
       "    </tr>\n",
       "    <tr>\n",
       "      <th>player_hero_card_id</th>\n",
       "      <td>981</td>\n",
       "      <td>754</td>\n",
       "      <td>612</td>\n",
       "      <td>981</td>\n",
       "      <td>494</td>\n",
       "    </tr>\n",
       "    <tr>\n",
       "      <th>player_hp</th>\n",
       "      <td>17</td>\n",
       "      <td>29</td>\n",
       "      <td>30</td>\n",
       "      <td>26</td>\n",
       "      <td>8</td>\n",
       "    </tr>\n",
       "    <tr>\n",
       "      <th>player_crystals_all</th>\n",
       "      <td>10</td>\n",
       "      <td>7</td>\n",
       "      <td>6</td>\n",
       "      <td>8</td>\n",
       "      <td>10</td>\n",
       "    </tr>\n",
       "    <tr>\n",
       "      <th>player_crystals_current</th>\n",
       "      <td>0</td>\n",
       "      <td>0</td>\n",
       "      <td>5</td>\n",
       "      <td>8</td>\n",
       "      <td>10</td>\n",
       "    </tr>\n",
       "    <tr>\n",
       "      <th>player_deck_count</th>\n",
       "      <td>12</td>\n",
       "      <td>18</td>\n",
       "      <td>22</td>\n",
       "      <td>19</td>\n",
       "      <td>14</td>\n",
       "    </tr>\n",
       "    <tr>\n",
       "      <th>player_fatigue_damage</th>\n",
       "      <td>0</td>\n",
       "      <td>0</td>\n",
       "      <td>0</td>\n",
       "      <td>0</td>\n",
       "      <td>0</td>\n",
       "    </tr>\n",
       "    <tr>\n",
       "      <th>player_hand_count</th>\n",
       "      <td>5</td>\n",
       "      <td>7</td>\n",
       "      <td>5</td>\n",
       "      <td>9</td>\n",
       "      <td>4</td>\n",
       "    </tr>\n",
       "    <tr>\n",
       "      <th>player_played_minions_count</th>\n",
       "      <td>5</td>\n",
       "      <td>5</td>\n",
       "      <td>0</td>\n",
       "      <td>1</td>\n",
       "      <td>1</td>\n",
       "    </tr>\n",
       "    <tr>\n",
       "      <th>opponent_played_nOfCards</th>\n",
       "      <td>1</td>\n",
       "      <td>1</td>\n",
       "      <td>2</td>\n",
       "      <td>0</td>\n",
       "      <td>4</td>\n",
       "    </tr>\n",
       "    <tr>\n",
       "      <th>opponent_played_attack</th>\n",
       "      <td>2</td>\n",
       "      <td>2</td>\n",
       "      <td>8</td>\n",
       "      <td>0</td>\n",
       "      <td>15</td>\n",
       "    </tr>\n",
       "    <tr>\n",
       "      <th>opponent_played_crystals_cost</th>\n",
       "      <td>4</td>\n",
       "      <td>4</td>\n",
       "      <td>5</td>\n",
       "      <td>0</td>\n",
       "      <td>14</td>\n",
       "    </tr>\n",
       "    <tr>\n",
       "      <th>opponent_played_hp_current</th>\n",
       "      <td>6</td>\n",
       "      <td>2</td>\n",
       "      <td>8</td>\n",
       "      <td>0</td>\n",
       "      <td>16</td>\n",
       "    </tr>\n",
       "    <tr>\n",
       "      <th>opponent_played_hp_max</th>\n",
       "      <td>8</td>\n",
       "      <td>4</td>\n",
       "      <td>8</td>\n",
       "      <td>0</td>\n",
       "      <td>16</td>\n",
       "    </tr>\n",
       "    <tr>\n",
       "      <th>player_played_nOfCards</th>\n",
       "      <td>5</td>\n",
       "      <td>5</td>\n",
       "      <td>0</td>\n",
       "      <td>1</td>\n",
       "      <td>1</td>\n",
       "    </tr>\n",
       "    <tr>\n",
       "      <th>player_played_attack</th>\n",
       "      <td>21</td>\n",
       "      <td>10</td>\n",
       "      <td>0</td>\n",
       "      <td>3</td>\n",
       "      <td>6</td>\n",
       "    </tr>\n",
       "    <tr>\n",
       "      <th>player_played_crystals_cost</th>\n",
       "      <td>20</td>\n",
       "      <td>16</td>\n",
       "      <td>0</td>\n",
       "      <td>2</td>\n",
       "      <td>6</td>\n",
       "    </tr>\n",
       "    <tr>\n",
       "      <th>player_played_hp_current</th>\n",
       "      <td>20</td>\n",
       "      <td>16</td>\n",
       "      <td>0</td>\n",
       "      <td>2</td>\n",
       "      <td>7</td>\n",
       "    </tr>\n",
       "    <tr>\n",
       "      <th>player_played_hp_max</th>\n",
       "      <td>23</td>\n",
       "      <td>17</td>\n",
       "      <td>0</td>\n",
       "      <td>2</td>\n",
       "      <td>7</td>\n",
       "    </tr>\n",
       "    <tr>\n",
       "      <th>player_hand_nOfMinions</th>\n",
       "      <td>4</td>\n",
       "      <td>3</td>\n",
       "      <td>5</td>\n",
       "      <td>7</td>\n",
       "      <td>4</td>\n",
       "    </tr>\n",
       "    <tr>\n",
       "      <th>player_hand_nOfSpells</th>\n",
       "      <td>0</td>\n",
       "      <td>2</td>\n",
       "      <td>0</td>\n",
       "      <td>1</td>\n",
       "      <td>0</td>\n",
       "    </tr>\n",
       "    <tr>\n",
       "      <th>player_hand_nOfCards</th>\n",
       "      <td>5</td>\n",
       "      <td>7</td>\n",
       "      <td>5</td>\n",
       "      <td>9</td>\n",
       "      <td>4</td>\n",
       "    </tr>\n",
       "    <tr>\n",
       "      <th>player_hand_nOfPlayable</th>\n",
       "      <td>0</td>\n",
       "      <td>0</td>\n",
       "      <td>2</td>\n",
       "      <td>9</td>\n",
       "      <td>4</td>\n",
       "    </tr>\n",
       "    <tr>\n",
       "      <th>player_hand_attack</th>\n",
       "      <td>20</td>\n",
       "      <td>17</td>\n",
       "      <td>26</td>\n",
       "      <td>36</td>\n",
       "      <td>13</td>\n",
       "    </tr>\n",
       "    <tr>\n",
       "      <th>player_hand_crystals_cost</th>\n",
       "      <td>22</td>\n",
       "      <td>26</td>\n",
       "      <td>28</td>\n",
       "      <td>44</td>\n",
       "      <td>13</td>\n",
       "    </tr>\n",
       "    <tr>\n",
       "      <th>player_hand_hp</th>\n",
       "      <td>17</td>\n",
       "      <td>20</td>\n",
       "      <td>27</td>\n",
       "      <td>36</td>\n",
       "      <td>14</td>\n",
       "    </tr>\n",
       "    <tr>\n",
       "      <th>opponent_special_skill_used_1</th>\n",
       "      <td>0</td>\n",
       "      <td>0</td>\n",
       "      <td>0</td>\n",
       "      <td>0</td>\n",
       "      <td>0</td>\n",
       "    </tr>\n",
       "    <tr>\n",
       "      <th>opponent_weapon_durability_1</th>\n",
       "      <td>0</td>\n",
       "      <td>0</td>\n",
       "      <td>0</td>\n",
       "      <td>0</td>\n",
       "      <td>0</td>\n",
       "    </tr>\n",
       "    <tr>\n",
       "      <th>opponent_weapon_durability_2</th>\n",
       "      <td>0</td>\n",
       "      <td>0</td>\n",
       "      <td>0</td>\n",
       "      <td>0</td>\n",
       "      <td>0</td>\n",
       "    </tr>\n",
       "    <tr>\n",
       "      <th>opponent_weapon_durability_3</th>\n",
       "      <td>0</td>\n",
       "      <td>0</td>\n",
       "      <td>0</td>\n",
       "      <td>0</td>\n",
       "      <td>0</td>\n",
       "    </tr>\n",
       "    <tr>\n",
       "      <th>opponent_weapon_durability_4</th>\n",
       "      <td>0</td>\n",
       "      <td>0</td>\n",
       "      <td>0</td>\n",
       "      <td>0</td>\n",
       "      <td>0</td>\n",
       "    </tr>\n",
       "    <tr>\n",
       "      <th>player_special_skill_used_1</th>\n",
       "      <td>1</td>\n",
       "      <td>0</td>\n",
       "      <td>0</td>\n",
       "      <td>0</td>\n",
       "      <td>0</td>\n",
       "    </tr>\n",
       "    <tr>\n",
       "      <th>player_weapon_durability_1</th>\n",
       "      <td>0</td>\n",
       "      <td>0</td>\n",
       "      <td>0</td>\n",
       "      <td>0</td>\n",
       "      <td>0</td>\n",
       "    </tr>\n",
       "    <tr>\n",
       "      <th>player_weapon_durability_2</th>\n",
       "      <td>0</td>\n",
       "      <td>0</td>\n",
       "      <td>0</td>\n",
       "      <td>0</td>\n",
       "      <td>0</td>\n",
       "    </tr>\n",
       "    <tr>\n",
       "      <th>player_weapon_durability_3</th>\n",
       "      <td>0</td>\n",
       "      <td>0</td>\n",
       "      <td>0</td>\n",
       "      <td>0</td>\n",
       "      <td>0</td>\n",
       "    </tr>\n",
       "    <tr>\n",
       "      <th>player_weapon_durability_4</th>\n",
       "      <td>0</td>\n",
       "      <td>0</td>\n",
       "      <td>0</td>\n",
       "      <td>0</td>\n",
       "      <td>0</td>\n",
       "    </tr>\n",
       "    <tr>\n",
       "      <th>player_hand_nOfWeapons_1</th>\n",
       "      <td>1</td>\n",
       "      <td>0</td>\n",
       "      <td>0</td>\n",
       "      <td>1</td>\n",
       "      <td>0</td>\n",
       "    </tr>\n",
       "    <tr>\n",
       "      <th>player_hand_nOfWeapons_2</th>\n",
       "      <td>0</td>\n",
       "      <td>1</td>\n",
       "      <td>0</td>\n",
       "      <td>0</td>\n",
       "      <td>0</td>\n",
       "    </tr>\n",
       "    <tr>\n",
       "      <th>player_hand_nOfWeapons_3</th>\n",
       "      <td>0</td>\n",
       "      <td>0</td>\n",
       "      <td>0</td>\n",
       "      <td>0</td>\n",
       "      <td>0</td>\n",
       "    </tr>\n",
       "    <tr>\n",
       "      <th>player_hand_nOfWeapons_4</th>\n",
       "      <td>0</td>\n",
       "      <td>0</td>\n",
       "      <td>0</td>\n",
       "      <td>0</td>\n",
       "      <td>0</td>\n",
       "    </tr>\n",
       "  </tbody>\n",
       "</table>\n",
       "</div>"
      ],
      "text/plain": [
       "gamestate_id                   4687346  3270826  3189487  4098946  2661127\n",
       "turn                                14        7        5        8       13\n",
       "opponent_armor                       0        0        3        0        0\n",
       "opponent_attack                      0        0        0        0        0\n",
       "opponent_hero_card_id              798      754      612      390       25\n",
       "opponent_hp                          5       22       29       26       30\n",
       "opponent_crystals_all               10        6        4        7       10\n",
       "opponent_crystals_current           10        6        1        7        1\n",
       "opponent_deck_count                 11       19       22       17       12\n",
       "opponent_fatigue_damage              0        0        0        0        0\n",
       "opponent_hand_count                  2        8        4        7        3\n",
       "opponent_played_minions_count        1        1        2        0        4\n",
       "player_armor                         0        0        1        0        0\n",
       "player_attack                        0        0        0        0        0\n",
       "player_hero_card_id                981      754      612      981      494\n",
       "player_hp                           17       29       30       26        8\n",
       "player_crystals_all                 10        7        6        8       10\n",
       "player_crystals_current              0        0        5        8       10\n",
       "player_deck_count                   12       18       22       19       14\n",
       "player_fatigue_damage                0        0        0        0        0\n",
       "player_hand_count                    5        7        5        9        4\n",
       "player_played_minions_count          5        5        0        1        1\n",
       "opponent_played_nOfCards             1        1        2        0        4\n",
       "opponent_played_attack               2        2        8        0       15\n",
       "opponent_played_crystals_cost        4        4        5        0       14\n",
       "opponent_played_hp_current           6        2        8        0       16\n",
       "opponent_played_hp_max               8        4        8        0       16\n",
       "player_played_nOfCards               5        5        0        1        1\n",
       "player_played_attack                21       10        0        3        6\n",
       "player_played_crystals_cost         20       16        0        2        6\n",
       "player_played_hp_current            20       16        0        2        7\n",
       "player_played_hp_max                23       17        0        2        7\n",
       "player_hand_nOfMinions               4        3        5        7        4\n",
       "player_hand_nOfSpells                0        2        0        1        0\n",
       "player_hand_nOfCards                 5        7        5        9        4\n",
       "player_hand_nOfPlayable              0        0        2        9        4\n",
       "player_hand_attack                  20       17       26       36       13\n",
       "player_hand_crystals_cost           22       26       28       44       13\n",
       "player_hand_hp                      17       20       27       36       14\n",
       "opponent_special_skill_used_1        0        0        0        0        0\n",
       "opponent_weapon_durability_1         0        0        0        0        0\n",
       "opponent_weapon_durability_2         0        0        0        0        0\n",
       "opponent_weapon_durability_3         0        0        0        0        0\n",
       "opponent_weapon_durability_4         0        0        0        0        0\n",
       "player_special_skill_used_1          1        0        0        0        0\n",
       "player_weapon_durability_1           0        0        0        0        0\n",
       "player_weapon_durability_2           0        0        0        0        0\n",
       "player_weapon_durability_3           0        0        0        0        0\n",
       "player_weapon_durability_4           0        0        0        0        0\n",
       "player_hand_nOfWeapons_1             1        0        0        1        0\n",
       "player_hand_nOfWeapons_2             0        1        0        0        0\n",
       "player_hand_nOfWeapons_3             0        0        0        0        0\n",
       "player_hand_nOfWeapons_4             0        0        0        0        0"
      ]
     },
     "execution_count": 26,
     "metadata": {},
     "output_type": "execute_result"
    }
   ],
   "source": [
    "X_train, y_train = get_X_y(df_data)\n",
    "print(len(X_train.columns))\n",
    "X_train.head().T"
   ]
  },
  {
   "cell_type": "code",
   "execution_count": 27,
   "metadata": {},
   "outputs": [
    {
     "name": "stderr",
     "output_type": "stream",
     "text": [
      "C:\\Anaconda3\\lib\\site-packages\\ipykernel_launcher.py:14: RuntimeWarning: overflow encountered in exp\n",
      "  \n"
     ]
    },
    {
     "name": "stdout",
     "output_type": "stream",
     "text": [
      "Wall time: 2min 33s\n"
     ]
    },
    {
     "data": {
      "text/plain": [
       "MySGDClassifier(C=10000, alpha=0.01,\n",
       "        batch_generator=<function <lambda> at 0x000000000CC0F268>,\n",
       "        do_log=True, max_epoch=30)"
      ]
     },
     "execution_count": 27,
     "metadata": {},
     "output_type": "execute_result"
    }
   ],
   "source": [
    "my_clf = MySGDClassifier(lambda X, y: batch_generator(X, y, True, 10000), C=10000, alpha=0.01, max_epoch=30)\n",
    "%time my_clf.fit(X_train.values, y_train.values)"
   ]
  },
  {
   "cell_type": "code",
   "execution_count": 28,
   "metadata": {},
   "outputs": [
    {
     "name": "stdout",
     "output_type": "stream",
     "text": [
      "[10.267325719380494, 10.267661141213971, 10.267917690236462, 10.267512728943736, 10.263571077300654, 10.256058762000444, 10.246864499431604, 10.236739179730568, 10.228460122656889, 10.221889119006901, 10.21624887681525, 10.214334253320329, 10.209576395824653, 10.20701681538082, 10.206649623625831, 10.207564027930253, 10.208224426280507, 10.208453619885777, 10.208555299933822, 10.208745662141844, 10.207928856930508, 10.207783511656304, 10.204466825495148, 10.202466097156996, 10.197285891922128, 10.19648202519862, 10.194662532236196, 10.187680446971736, 10.187736291823978, 10.184170812032969]\n",
      "[  5.29694108e-02  -3.24232891e-01   4.96867413e-01   2.30058557e+00\n",
      "  -1.30454840e+01  -1.96387109e-01   1.35523827e+00  -9.73369028e-01\n",
      "   2.92157926e-01   6.17989383e-01  -2.48294399e+00   7.90302033e-01\n",
      "   1.22277556e-01   2.50643198e+00   8.87250285e+00   3.18158977e-01\n",
      "  -6.06570843e-02  -1.64734743e+00   4.86660834e-01  -6.58055931e-01\n",
      "   2.47233700e+00  -1.67714692e+00  -1.07220872e+01  -9.75195123e+00\n",
      "  -8.87810956e+00  -1.18915953e+01   3.22137777e+00   1.11340777e+01\n",
      "   9.84311988e+00   9.52013211e+00   1.26609567e+01  -6.58226901e-03\n",
      "   5.43339702e-01  -5.97777379e-01  -6.06215660e-01  -1.02831151e+00\n",
      "  -2.03885007e+00  -7.54945257e-01   4.35941718e-01   4.87937400e-01\n",
      "   7.96706968e-01   8.00820320e-01   4.03467454e-01   9.28536299e-01\n",
      "   9.41405580e-01   4.87298045e-01   3.25275149e-01   9.09089606e-01\n",
      "   1.10102631e-01   8.30972286e-01   1.83465575e-01   8.83329388e-01\n",
      "   7.17568176e-01]\n"
     ]
    }
   ],
   "source": [
    "# а тем временем loss переполняется, а gradient нет, потому что ему пофиг, если a_i = 0,\n",
    "# ибо в нём нет логарифмов\n",
    "# даже если добавить к вероятностям eps, нагляднее не становится\n",
    "print(my_clf.errors_log['loss'])\n",
    "print(my_clf.weights)"
   ]
  },
  {
   "cell_type": "markdown",
   "metadata": {},
   "source": [
    "## Применение модели \n",
    "* Подготовьте тестовые данные  к подаче на вход в алгоритму (нужно сделать такие же преобразования, как при обучении)\n",
    "* Примените модель оцените качество на тесте с помощью меры ROC-AUC (имплементацию взять из sklern.metrics)\n"
   ]
  },
  {
   "cell_type": "code",
   "execution_count": 29,
   "metadata": {},
   "outputs": [],
   "source": [
    "# Загрузка данных для тестирования\n",
    "filepath_test = 'trainingData_tabular/trainingData_tabular_chunk2.csv'\n",
    "df_data_test = pd.read_csv(filepath_test, sep=',')\n",
    "\n",
    "df_data_test.columns = df_data_test.columns.str.replace('.', '_')\n",
    "df_data_test = df_data_test.set_index('gamestate_id')"
   ]
  },
  {
   "cell_type": "code",
   "execution_count": 30,
   "metadata": {},
   "outputs": [
    {
     "name": "stderr",
     "output_type": "stream",
     "text": [
      "C:\\Anaconda3\\lib\\site-packages\\ipykernel_launcher.py:14: RuntimeWarning: overflow encountered in exp\n",
      "  \n"
     ]
    }
   ],
   "source": [
    "X_test, y_test = get_X_y(df_data_test)\n",
    "y_clf = my_clf.predict(X_test)"
   ]
  },
  {
   "cell_type": "code",
   "execution_count": 31,
   "metadata": {},
   "outputs": [
    {
     "name": "stdout",
     "output_type": "stream",
     "text": [
      "0.503964436773\n"
     ]
    },
    {
     "name": "stderr",
     "output_type": "stream",
     "text": [
      "C:\\Anaconda3\\lib\\site-packages\\ipykernel_launcher.py:14: RuntimeWarning: overflow encountered in exp\n",
      "  \n"
     ]
    },
    {
     "name": "stdout",
     "output_type": "stream",
     "text": [
      "0.504437742661\n"
     ]
    }
   ],
   "source": [
    "from sklearn.metrics import roc_auc_score\n",
    "# ну такое себе\n",
    "print(roc_auc_score(y_test, y_clf))\n",
    "print(roc_auc_score(y_train, my_clf.predict(X_train)))"
   ]
  },
  {
   "cell_type": "code",
   "execution_count": 32,
   "metadata": {},
   "outputs": [
    {
     "name": "stdout",
     "output_type": "stream",
     "text": [
      "Wall time: 20.1 s\n"
     ]
    },
    {
     "data": {
      "text/plain": [
       "LogisticRegression(C=1.0, class_weight=None, dual=False, fit_intercept=True,\n",
       "          intercept_scaling=1, max_iter=10, multi_class='ovr', n_jobs=1,\n",
       "          penalty='l1', random_state=None, solver='liblinear', tol=0.0001,\n",
       "          verbose=0, warm_start=False)"
      ]
     },
     "execution_count": 32,
     "metadata": {},
     "output_type": "execute_result"
    }
   ],
   "source": [
    "cool_clf = LogisticRegression(penalty='l1',max_iter=10)\n",
    "%time cool_clf.fit(X_train,y_train)"
   ]
  },
  {
   "cell_type": "code",
   "execution_count": 33,
   "metadata": {},
   "outputs": [
    {
     "name": "stdout",
     "output_type": "stream",
     "text": [
      "0.699230500334\n",
      "0.698810460614\n"
     ]
    }
   ],
   "source": [
    "y_cool = cool_clf.predict(X_test)\n",
    "print(roc_auc_score(y_test, y_cool))\n",
    "print(roc_auc_score(y_train, cool_clf.predict(X_train)))"
   ]
  },
  {
   "cell_type": "markdown",
   "metadata": {},
   "source": [
    "# Контрольные вопросы\n",
    "Постарайтесь максимально развернуто и честно ответить на вопросы. Они охватывают тему линейных моделей и скорее нужны преподавателям, чтобы понимать, что именно Вы усвоили плохо. Надеюсь, они подскажут, что именно в теме Вы не понимаете или наоборот порадают, что Вы все знаете ^_^"
   ]
  },
  {
   "cell_type": "markdown",
   "metadata": {},
   "source": [
    "* Опишите основные, на Ваш взгляд,  отличия логистической регрессии от линейной регрессии. Почему, на ваш взгляд, задачу классификации решают логистической, а не линейной регрессией?"
   ]
  },
  {
   "cell_type": "markdown",
   "metadata": {},
   "source": [
    "***Ваше ответ здесь***"
   ]
  },
  {
   "cell_type": "markdown",
   "metadata": {},
   "source": [
    "* Как Вы думаете, для каких типов задач (объем данных, число признаков, типы признаков) стоит отдавать предпочтение линейным моделям?"
   ]
  },
  {
   "cell_type": "markdown",
   "metadata": {},
   "source": [
    "***Ваше ответ здесь***"
   ]
  },
  {
   "cell_type": "markdown",
   "metadata": {},
   "source": [
    "* Пусть на обучении мы имеем выборку размера $N$, число признаков $D$. Чему равна алгоритмическая сложность одного шага градиентного спуска? Cтохастического градиентного спуска?  Сложность предсказания на одном объекте?"
   ]
  },
  {
   "cell_type": "markdown",
   "metadata": {},
   "source": [
    "***Ваше ответ здесь***"
   ]
  },
  {
   "cell_type": "markdown",
   "metadata": {},
   "source": [
    "* В чем преимущества стохастического градиентного спуска (в том числе мини-батч) над обычным градиентным спуском? В чем его недостатки? Рассмотрите несколько аспектов $-$ скорость сходимости, необходимость загрузки всех данных в оперативную память, сложность вычисления одного шага."
   ]
  },
  {
   "cell_type": "markdown",
   "metadata": {},
   "source": [
    "***Ваше ответ здесь***"
   ]
  },
  {
   "cell_type": "markdown",
   "metadata": {},
   "source": [
    "* Как Вы думаете, при обучении линейной модели с помощью SGD, ошибку на новом объекте стоит считать до итерации спуска на этом объекте или после? Почему Вы так думаете? Возможно, Вам будет интересно ознакомиться с http://hunch.net/~jl/projects/prediction_bounds/thesis/mathml/thesisse44.xml"
   ]
  },
  {
   "cell_type": "markdown",
   "metadata": {},
   "source": [
    "***Ваше ответ здесь***"
   ]
  },
  {
   "cell_type": "markdown",
   "metadata": {},
   "source": [
    "* Как Вы думаете, во времена такого бума нейронных сетей, остаются ли популярными линейные модели, или это уже пережиток прошлого? Почему Вы так думаете?"
   ]
  },
  {
   "cell_type": "markdown",
   "metadata": {},
   "source": [
    "***Ваше ответ здесь***"
   ]
  },
  {
   "cell_type": "markdown",
   "metadata": {},
   "source": [
    "* Какие аспекты обучения линейных моделей Вам показались непонятными? Какое место стоит дополнительно объяснить?"
   ]
  },
  {
   "cell_type": "markdown",
   "metadata": {},
   "source": [
    "***Ваше ответ здесь***"
   ]
  },
  {
   "cell_type": "markdown",
   "metadata": {},
   "source": [
    "Здесь Вы можете оставить отзыв о этой домашней работе или о всем курсе.   "
   ]
  },
  {
   "cell_type": "markdown",
   "metadata": {},
   "source": [
    "*** ВАШ ОТЗЫВ ЗДЕСЬ***"
   ]
  },
  {
   "cell_type": "code",
   "execution_count": null,
   "metadata": {
    "collapsed": true
   },
   "outputs": [],
   "source": []
  },
  {
   "cell_type": "code",
   "execution_count": null,
   "metadata": {
    "collapsed": true
   },
   "outputs": [],
   "source": []
  }
 ],
 "metadata": {
  "anaconda-cloud": {},
  "kernelspec": {
   "display_name": "Python 3",
   "language": "python",
   "name": "python3"
  },
  "language_info": {
   "codemirror_mode": {
    "name": "ipython",
    "version": 3
   },
   "file_extension": ".py",
   "mimetype": "text/x-python",
   "name": "python",
   "nbconvert_exporter": "python",
   "pygments_lexer": "ipython3",
   "version": "3.6.2"
  },
  "nav_menu": {},
  "toc": {
   "colors": {
    "hover_highlight": "#DAA520",
    "navigate_num": "#000000",
    "navigate_text": "#333333",
    "running_highlight": "#FF0000",
    "selected_highlight": "#FFD700",
    "sidebar_border": "#EEEEEE",
    "wrapper_background": "#FFFFFF"
   },
   "moveMenuLeft": true,
   "nav_menu": {
    "height": "402px",
    "width": "253px"
   },
   "navigate_menu": true,
   "number_sections": false,
   "sideBar": true,
   "threshold": 4,
   "toc_cell": false,
   "toc_section_display": "block",
   "toc_window_display": true,
   "widenNotebook": false
  }
 },
 "nbformat": 4,
 "nbformat_minor": 2
}
