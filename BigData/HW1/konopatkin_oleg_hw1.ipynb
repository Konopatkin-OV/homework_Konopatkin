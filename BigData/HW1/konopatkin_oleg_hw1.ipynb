{
 "cells": [
  {
   "cell_type": "markdown",
   "metadata": {},
   "source": [
    "**Общая информация**\n",
    "\n",
    "**Срок сдачи:** 18 октября 2017, 06:00 <br\\>\n",
    "**Штраф за опоздание:** -2 балла после 06:00 18 октября, -4 балла после 06:00 25 октября, -6 баллов после 06:00 1 ноября\n",
    "\n",
    "При отправлении ДЗ указывайте фамилию в названии файла\n",
    "Присылать ДЗ необходимо в виде ссылки на свой github репозиторий в slack @alkhamush\n",
    "\n",
    "Необходимо в slack создать таск в приватный чат:\n",
    "/todo Фамилия Имя ссылка на гитхаб @alkhamush\n",
    "Пример:\n",
    "/todo Ксения Стройкова https://github.com/stroykova/spheremailru/stroykova_hw1.ipynb @alkhamush\n",
    "Дополнительно нужно просто скинуть ссылку в slack в личный чат\n",
    "\n",
    "Используйте данный Ipython Notebook при оформлении домашнего задания."
   ]
  },
  {
   "cell_type": "markdown",
   "metadata": {},
   "source": [
    "###### Задание 1 (2 баллов)\n",
    "Реализовать KNN в классе MyKNeighborsClassifier (обязательное условие: точность не ниже sklearn реализации)\n",
    "Разберитесь самостоятельно, какая мера расстояния используется в KNeighborsClassifier дефолтно и реализуйте свой алгоритм именно с этой мерой. Самостоятельно разберитесь, как считается score из KNeighborsClassifier и реализуйте аналог в своём классе. Score не должен уступать значению KNN из sklearn\n",
    "\n",
    "###### Задание 2 (2 балла)\n",
    "Добиться скорости работы на fit,  predict и predict_proba сравнимой со sklearn для iris и mnist\n",
    "Для этого используем numpy\n",
    "\n",
    "###### Задание 3 (2 балла)\n",
    "Для iris найдите такой параметр n_neighbors, при котором выдаётся наилучший score. Нарисуйте график зависимости score от n_neighbors\n",
    "\n",
    "###### Задание 4 (3 балла)\n",
    "Добавить algorithm='kd_tree' в реализацию KNN (использовать KDTree из sklearn.neighbors). Значение n_neighbors нужно взять из задания 3. Добиться скорости работы на fit,  predict и predict_proba сравнимой со sklearn для iris и mnist\n",
    "Для этого используем numpy. Score не должен уступать значению KNN из sklearn\n",
    "\n",
    "###### Задание 5 (1 балла)\n",
    "Описать для чего нужны следующие библиотеки/классы/функции (список будет ниже)\n",
    "\n",
    "**Штрафные баллы:**\n",
    "\n",
    "1. Невыполнение PEP8 -1 балл\n",
    "2. Отсутствие фамилии в имени скрипта (скрипт должен называться по аналогии со stroykova_hw1.ipynb) -1 балл\n",
    "3. Все строчки должны быть выполнены. Нужно, чтобы output команды можно было увидеть уже в git'е. В противном случае -1 балл\n",
    "4. При оформлении ДЗ нужно пользоваться данным файлом в качестве шаблона. Не нужно удалять и видоизменять структуру кода и текст. В противном случае -1 балл\n"
   ]
  },
  {
   "cell_type": "code",
   "execution_count": 1,
   "metadata": {},
   "outputs": [],
   "source": [
    "import numpy as np\n",
    "%matplotlib inline\n",
    "import matplotlib.pyplot as plt\n",
    "\n",
    "import seaborn as sns\n",
    "from sklearn import datasets\n",
    "from sklearn.base import ClassifierMixin\n",
    "from sklearn.datasets import fetch_mldata\n",
    "from sklearn.neighbors.base import NeighborsBase, KNeighborsMixin, SupervisedIntegerMixin \n",
    "from sklearn.model_selection import train_test_split\n",
    "from sklearn.neighbors import KNeighborsClassifier\n",
    "\n",
    "from sklearn.metrics import pairwise_distances\n",
    "from sklearn.neighbors.kd_tree import KDTree\n",
    "%load_ext pycodestyle_magic"
   ]
  },
  {
   "cell_type": "code",
   "execution_count": 2,
   "metadata": {},
   "outputs": [],
   "source": [
    "#%%pycodestyle\n",
    "from copy import deepcopy\n",
    "\n",
    "\n",
    "class MyKNeighborsClassifier(NeighborsBase, KNeighborsMixin,\n",
    "                             SupervisedIntegerMixin, ClassifierMixin):\n",
    "    def __init__(self, n_neighbors, algorithm='brute'):\n",
    "        self.n_neighbors = n_neighbors\n",
    "        self.algorithm = algorithm\n",
    "\n",
    "    def fit(self, X, y):\n",
    "        if self.algorithm == 'kd_tree':\n",
    "            # магическая структура строится сама\n",
    "            # в sklearn leaf_size по-умолчанию 30\n",
    "            self.tree = KDTree(X, 30, metric='euclidean')\n",
    "        elif self.algorithm == 'brute':\n",
    "            self.X = deepcopy(X)\n",
    "\n",
    "        self.classes = np.unique(y)\n",
    "        # костыльный перевод, чтобы можно было читерски использовать bincount\n",
    "        # а потом оказалось, что нечто похожее есть в SupervisedIntegerMixin\n",
    "        self.class_to_int = {self.classes[i]: i\n",
    "                             for i in range(self.classes.shape[0])}\n",
    "        self.int_to_class = {i: self.classes[i]\n",
    "                             for i in range(self.classes.shape[0])}\n",
    "        self.y = np.array([self.class_to_int[c] for c in y])\n",
    "\n",
    "    def predict(self, X):\n",
    "        if self.algorithm == 'brute':\n",
    "            X_dist = pairwise_distances(X, self.X, metric='euclidean')\n",
    "\n",
    "            # argpartition - волшебная функция, выставляет k-ый элемент из\n",
    "            #                отсортированного порядка на своё место,\n",
    "            #                меньшие его - в начало, остальные - в конец,\n",
    "            #                возвращает перестановку элементов\n",
    "            neighbors_order = np.argpartition(X_dist, self.n_neighbors, axis=1)\n",
    "            neighbors_order = neighbors_order[:, :self.n_neighbors]\n",
    "        elif self.algorithm == 'kd_tree':\n",
    "            # магический запрос к магической структуре\n",
    "            _, neighbors_order = self.tree.query(X, self.n_neighbors)\n",
    "\n",
    "        neighbors_classes = self.y[neighbors_order]\n",
    "\n",
    "        # bincount считает количество вхождений целых неотрицательных чисел\n",
    "        res = [np.bincount(neighbors_classes[i],\n",
    "                           minlength=self.classes.shape[0])\n",
    "               for i in range(neighbors_classes.shape[0])]\n",
    "\n",
    "        return np.array([self.int_to_class[i] for i in np.argmax(res, axis=1)])\n",
    "\n",
    "    def predict_proba(self, X):\n",
    "        # наглый копипаст c predict\n",
    "        if self.algorithm == 'brute':\n",
    "            X_dist = pairwise_distances(X, self.X, metric='euclidean')\n",
    "\n",
    "            neighbors_order = np.argpartition(X_dist, self.n_neighbors, axis=1)\n",
    "            neighbors_order = neighbors_order[:, :self.n_neighbors]\n",
    "        elif self.algorithm == 'kd_tree':\n",
    "            _, neighbors_order = self.tree.query(X, self.n_neighbors)\n",
    "\n",
    "        neighbors_classes = self.y[neighbors_order]\n",
    "\n",
    "        res = [np.bincount(neighbors_classes[i],\n",
    "                           minlength=self.classes.shape[0])\n",
    "               for i in range(neighbors_classes.shape[0])]\n",
    "\n",
    "        res = np.array([res[i] / np.sum(res[i]) for i in range(len(res))])\n",
    "        return res\n",
    "\n",
    "    def score(self, X, y):\n",
    "        y_res = self.predict(X)\n",
    "        return sum(y_res == y) / y.shape[0]"
   ]
  },
  {
   "cell_type": "markdown",
   "metadata": {},
   "source": [
    "**IRIS**"
   ]
  },
  {
   "cell_type": "code",
   "execution_count": 250,
   "metadata": {
    "collapsed": true
   },
   "outputs": [],
   "source": [
    "iris = datasets.load_iris()"
   ]
  },
  {
   "cell_type": "code",
   "execution_count": 251,
   "metadata": {},
   "outputs": [],
   "source": [
    "X_train, X_test, y_train, y_test = train_test_split(iris.data, iris.target, test_size=0.1, stratify=iris.target)"
   ]
  },
  {
   "cell_type": "code",
   "execution_count": 252,
   "metadata": {},
   "outputs": [],
   "source": [
    "clf = KNeighborsClassifier(n_neighbors=2, algorithm='brute')\n",
    "my_clf = MyKNeighborsClassifier(n_neighbors=2, algorithm='brute')"
   ]
  },
  {
   "cell_type": "code",
   "execution_count": 253,
   "metadata": {},
   "outputs": [
    {
     "name": "stdout",
     "output_type": "stream",
     "text": [
      "Wall time: 0 ns\n"
     ]
    },
    {
     "data": {
      "text/plain": [
       "KNeighborsClassifier(algorithm='brute', leaf_size=30, metric='minkowski',\n",
       "           metric_params=None, n_jobs=1, n_neighbors=2, p=2,\n",
       "           weights='uniform')"
      ]
     },
     "execution_count": 253,
     "metadata": {},
     "output_type": "execute_result"
    }
   ],
   "source": [
    "%time clf.fit(X_train, y_train)"
   ]
  },
  {
   "cell_type": "code",
   "execution_count": 254,
   "metadata": {},
   "outputs": [
    {
     "name": "stdout",
     "output_type": "stream",
     "text": [
      "Wall time: 0 ns\n"
     ]
    }
   ],
   "source": [
    "%time my_clf.fit(X_train, y_train)"
   ]
  },
  {
   "cell_type": "code",
   "execution_count": 255,
   "metadata": {},
   "outputs": [
    {
     "name": "stdout",
     "output_type": "stream",
     "text": [
      "Wall time: 1e+03 µs\n"
     ]
    },
    {
     "data": {
      "text/plain": [
       "array([2, 0, 1, 2, 1, 1, 1, 2, 0, 0, 0, 1, 2, 0, 1])"
      ]
     },
     "execution_count": 255,
     "metadata": {},
     "output_type": "execute_result"
    }
   ],
   "source": [
    "%time clf.predict(X_test)"
   ]
  },
  {
   "cell_type": "code",
   "execution_count": 256,
   "metadata": {},
   "outputs": [
    {
     "name": "stdout",
     "output_type": "stream",
     "text": [
      "Wall time: 1 ms\n"
     ]
    },
    {
     "data": {
      "text/plain": [
       "array([2, 0, 1, 2, 1, 1, 1, 2, 0, 0, 0, 1, 2, 0, 1])"
      ]
     },
     "execution_count": 256,
     "metadata": {},
     "output_type": "execute_result"
    }
   ],
   "source": [
    "%time my_clf.predict(X_test)"
   ]
  },
  {
   "cell_type": "code",
   "execution_count": 257,
   "metadata": {},
   "outputs": [
    {
     "name": "stdout",
     "output_type": "stream",
     "text": [
      "Wall time: 1e+03 µs\n"
     ]
    },
    {
     "data": {
      "text/plain": [
       "array([[ 0.,  0.,  1.],\n",
       "       [ 1.,  0.,  0.],\n",
       "       [ 0.,  1.,  0.],\n",
       "       [ 0.,  0.,  1.],\n",
       "       [ 0.,  1.,  0.],\n",
       "       [ 0.,  1.,  0.],\n",
       "       [ 0.,  1.,  0.],\n",
       "       [ 0.,  0.,  1.],\n",
       "       [ 1.,  0.,  0.],\n",
       "       [ 1.,  0.,  0.],\n",
       "       [ 1.,  0.,  0.],\n",
       "       [ 0.,  1.,  0.],\n",
       "       [ 0.,  0.,  1.],\n",
       "       [ 1.,  0.,  0.],\n",
       "       [ 0.,  1.,  0.]])"
      ]
     },
     "execution_count": 257,
     "metadata": {},
     "output_type": "execute_result"
    }
   ],
   "source": [
    "%time clf.predict_proba(X_test)"
   ]
  },
  {
   "cell_type": "code",
   "execution_count": 258,
   "metadata": {},
   "outputs": [
    {
     "name": "stdout",
     "output_type": "stream",
     "text": [
      "Wall time: 2 ms\n"
     ]
    },
    {
     "data": {
      "text/plain": [
       "array([[ 0.,  0.,  1.],\n",
       "       [ 1.,  0.,  0.],\n",
       "       [ 0.,  1.,  0.],\n",
       "       [ 0.,  0.,  1.],\n",
       "       [ 0.,  1.,  0.],\n",
       "       [ 0.,  1.,  0.],\n",
       "       [ 0.,  1.,  0.],\n",
       "       [ 0.,  0.,  1.],\n",
       "       [ 1.,  0.,  0.],\n",
       "       [ 1.,  0.,  0.],\n",
       "       [ 1.,  0.,  0.],\n",
       "       [ 0.,  1.,  0.],\n",
       "       [ 0.,  0.,  1.],\n",
       "       [ 1.,  0.,  0.],\n",
       "       [ 0.,  1.,  0.]])"
      ]
     },
     "execution_count": 258,
     "metadata": {},
     "output_type": "execute_result"
    }
   ],
   "source": [
    "%time my_clf.predict_proba(X_test)"
   ]
  },
  {
   "cell_type": "code",
   "execution_count": 259,
   "metadata": {},
   "outputs": [
    {
     "data": {
      "text/plain": [
       "0.93333333333333335"
      ]
     },
     "execution_count": 259,
     "metadata": {},
     "output_type": "execute_result"
    }
   ],
   "source": [
    "clf.score(X_test, y_test)"
   ]
  },
  {
   "cell_type": "code",
   "execution_count": 260,
   "metadata": {},
   "outputs": [
    {
     "data": {
      "text/plain": [
       "0.93333333333333335"
      ]
     },
     "execution_count": 260,
     "metadata": {},
     "output_type": "execute_result"
    }
   ],
   "source": [
    "my_clf.score(X_test, y_test)"
   ]
  },
  {
   "cell_type": "markdown",
   "metadata": {},
   "source": [
    "Задание 3"
   ]
  },
  {
   "cell_type": "code",
   "execution_count": 284,
   "metadata": {},
   "outputs": [
    {
     "name": "stdout",
     "output_type": "stream",
     "text": [
      "2513020766\n",
      "5 : 1.0\n"
     ]
    },
    {
     "data": {
      "text/plain": [
       "[<matplotlib.lines.Line2D at 0x1779aac8>]"
      ]
     },
     "execution_count": 284,
     "metadata": {},
     "output_type": "execute_result"
    },
    {
     "data": {
      "image/png": "[encoded data removed]",
      "text/plain": [
       "<matplotlib.figure.Figure at 0x177360f0>"
      ]
     },
     "metadata": {},
     "output_type": "display_data"
    }
   ],
   "source": [
    "#%%pycodestyle\n",
    "np.random.seed(2513020613)\n",
    "\n",
    "X_train, X_test, y_train, y_test = train_test_split(iris.data, iris.target, test_size=0.1, stratify=iris.target)\n",
    "\n",
    "scores = [0] * 30\n",
    "for i in range(len(scores)):\n",
    "    my_clf = MyKNeighborsClassifier(n_neighbors=i, algorithm='brute')\n",
    "    my_clf.fit(X_train, y_train)\n",
    "    scores[i] = my_clf.score(X_test, y_test)\n",
    "best = np.argmax(scores)\n",
    "print(best, \":\", scores[best])\n",
    "\n",
    "# 0 соседей всегда возвращает первый класс, точность сильно ниже\n",
    "plt.plot(range(1, len(scores)), scores[1:])\n",
    "\n",
    "# вообще коллекция не очень наглядная, на разных разбиениях очень разные результаты\n",
    "# иногда бывает постоянно один score, иногда даже везде 1.0"
   ]
  },
  {
   "cell_type": "markdown",
   "metadata": {},
   "source": [
    "**MNIST**"
   ]
  },
  {
   "cell_type": "code",
   "execution_count": 285,
   "metadata": {
    "collapsed": true
   },
   "outputs": [],
   "source": [
    "mnist = fetch_mldata('MNIST original')"
   ]
  },
  {
   "cell_type": "code",
   "execution_count": 286,
   "metadata": {
    "collapsed": true
   },
   "outputs": [],
   "source": [
    "X_train, X_test, y_train, y_test = train_test_split(mnist.data, mnist.target, test_size=0.01, stratify=mnist.target)"
   ]
  },
  {
   "cell_type": "code",
   "execution_count": 287,
   "metadata": {
    "collapsed": true
   },
   "outputs": [],
   "source": [
    "clf = KNeighborsClassifier(n_neighbors=2, algorithm='brute')\n",
    "my_clf = MyKNeighborsClassifier(n_neighbors=2, algorithm='brute')"
   ]
  },
  {
   "cell_type": "code",
   "execution_count": 288,
   "metadata": {},
   "outputs": [
    {
     "name": "stdout",
     "output_type": "stream",
     "text": [
      "Wall time: 10 ms\n"
     ]
    },
    {
     "data": {
      "text/plain": [
       "KNeighborsClassifier(algorithm='brute', leaf_size=30, metric='minkowski',\n",
       "           metric_params=None, n_jobs=1, n_neighbors=2, p=2,\n",
       "           weights='uniform')"
      ]
     },
     "execution_count": 288,
     "metadata": {},
     "output_type": "execute_result"
    }
   ],
   "source": [
    "%time clf.fit(X_train, y_train)"
   ]
  },
  {
   "cell_type": "code",
   "execution_count": 289,
   "metadata": {},
   "outputs": [
    {
     "name": "stdout",
     "output_type": "stream",
     "text": [
      "Wall time: 55 ms\n"
     ]
    }
   ],
   "source": [
    "%time my_clf.fit(X_train, y_train)"
   ]
  },
  {
   "cell_type": "code",
   "execution_count": 290,
   "metadata": {},
   "outputs": [
    {
     "name": "stdout",
     "output_type": "stream",
     "text": [
      "Wall time: 2.63 s\n"
     ]
    },
    {
     "data": {
      "text/plain": [
       "array([ 3.,  9.,  8.,  5.,  1.,  6.,  3.,  4.,  9.,  4.,  6.,  9.,  6.,\n",
       "        2.,  8.,  9.,  0.,  3.,  3.,  9.,  7.,  0.,  2.,  2.,  9.,  1.,\n",
       "        5.,  5.,  9.,  9.,  0.,  3.,  7.,  1.,  1.,  9.,  6.,  1.,  0.,\n",
       "        1.,  2.,  5.,  0.,  5.,  0.,  3.,  2.,  4.,  3.,  0.,  6.,  0.,\n",
       "        3.,  7.,  6.,  0.,  9.,  7.,  7.,  5.,  3.,  4.,  2.,  4.,  5.,\n",
       "        4.,  5.,  5.,  5.,  2.,  8.,  3.,  4.,  8.,  4.,  5.,  4.,  6.,\n",
       "        8.,  8.,  6.,  9.,  3.,  5.,  8.,  4.,  9.,  4.,  3.,  0.,  1.,\n",
       "        8.,  7.,  3.,  5.,  7.,  3.,  0.,  3.,  8.,  5.,  7.,  0.,  6.,\n",
       "        8.,  1.,  6.,  8.,  8.,  0.,  4.,  9.,  4.,  7.,  6.,  8.,  2.,\n",
       "        7.,  6.,  6.,  4.,  1.,  1.,  7.,  9.,  0.,  2.,  1.,  1.,  0.,\n",
       "        6.,  6.,  1.,  4.,  5.,  7.,  5.,  9.,  9.,  1.,  5.,  3.,  8.,\n",
       "        5.,  6.,  0.,  5.,  9.,  8.,  7.,  6.,  9.,  4.,  4.,  2.,  0.,\n",
       "        2.,  6.,  8.,  7.,  4.,  4.,  7.,  7.,  7.,  3.,  8.,  9.,  6.,\n",
       "        9.,  7.,  1.,  0.,  8.,  8.,  5.,  0.,  0.,  9.,  8.,  1.,  5.,\n",
       "        0.,  6.,  9.,  3.,  8.,  1.,  3.,  5.,  0.,  9.,  0.,  3.,  2.,\n",
       "        5.,  0.,  5.,  6.,  3.,  2.,  0.,  0.,  7.,  2.,  3.,  1.,  0.,\n",
       "        4.,  6.,  1.,  1.,  1.,  8.,  3.,  5.,  6.,  1.,  9.,  7.,  4.,\n",
       "        1.,  1.,  7.,  3.,  8.,  6.,  0.,  3.,  3.,  7.,  1.,  5.,  4.,\n",
       "        0.,  6.,  1.,  7.,  7.,  9.,  1.,  1.,  0.,  4.,  5.,  8.,  9.,\n",
       "        2.,  4.,  4.,  2.,  7.,  4.,  4.,  6.,  6.,  9.,  1.,  4.,  7.,\n",
       "        2.,  1.,  0.,  8.,  3.,  6.,  9.,  6.,  3.,  1.,  3.,  8.,  8.,\n",
       "        1.,  7.,  5.,  0.,  9.,  7.,  7.,  9.,  4.,  6.,  6.,  2.,  9.,\n",
       "        7.,  6.,  2.,  2.,  7.,  7.,  5.,  3.,  6.,  5.,  3.,  5.,  5.,\n",
       "        4.,  4.,  2.,  0.,  4.,  9.,  9.,  0.,  0.,  1.,  2.,  6.,  9.,\n",
       "        8.,  3.,  1.,  0.,  0.,  1.,  3.,  1.,  5.,  2.,  3.,  0.,  1.,\n",
       "        1.,  8.,  1.,  3.,  7.,  7.,  8.,  2.,  4.,  6.,  3.,  1.,  0.,\n",
       "        9.,  4.,  4.,  1.,  8.,  2.,  2.,  0.,  4.,  7.,  4.,  2.,  5.,\n",
       "        0.,  4.,  3.,  2.,  1.,  5.,  7.,  0.,  7.,  4.,  8.,  0.,  5.,\n",
       "        4.,  2.,  7.,  9.,  1.,  8.,  3.,  6.,  4.,  9.,  0.,  9.,  6.,\n",
       "        1.,  2.,  1.,  3.,  3.,  5.,  7.,  2.,  9.,  1.,  0.,  8.,  4.,\n",
       "        7.,  3.,  3.,  6.,  6.,  6.,  7.,  2.,  9.,  5.,  7.,  7.,  2.,\n",
       "        4.,  4.,  1.,  7.,  7.,  0.,  1.,  1.,  6.,  5.,  2.,  3.,  2.,\n",
       "        2.,  3.,  2.,  8.,  0.,  4.,  0.,  9.,  5.,  0.,  6.,  1.,  4.,\n",
       "        2.,  5.,  9.,  9.,  9.,  3.,  3.,  7.,  4.,  4.,  4.,  2.,  5.,\n",
       "        2.,  8.,  4.,  2.,  9.,  7.,  4.,  5.,  2.,  8.,  9.,  7.,  3.,\n",
       "        1.,  9.,  7.,  5.,  3.,  4.,  8.,  0.,  9.,  1.,  5.,  1.,  0.,\n",
       "        5.,  8.,  6.,  9.,  7.,  7.,  1.,  2.,  1.,  7.,  3.,  5.,  4.,\n",
       "        3.,  0.,  1.,  2.,  3.,  6.,  3.,  7.,  5.,  3.,  2.,  6.,  3.,\n",
       "        7.,  8.,  3.,  0.,  0.,  6.,  0.,  2.,  9.,  1.,  6.,  6.,  2.,\n",
       "        3.,  0.,  1.,  7.,  0.,  3.,  2.,  7.,  8.,  8.,  0.,  2.,  9.,\n",
       "        2.,  1.,  4.,  7.,  5.,  8.,  5.,  8.,  5.,  8.,  5.,  2.,  6.,\n",
       "        8.,  3.,  8.,  4.,  4.,  3.,  6.,  6.,  3.,  3.,  8.,  2.,  9.,\n",
       "        3.,  8.,  1.,  1.,  0.,  7.,  9.,  8.,  2.,  6.,  5.,  0.,  5.,\n",
       "        0.,  2.,  5.,  6.,  5.,  1.,  5.,  2.,  3.,  4.,  3.,  6.,  9.,\n",
       "        4.,  6.,  1.,  2.,  4.,  4.,  7.,  3.,  9.,  9.,  3.,  6.,  9.,\n",
       "        6.,  1.,  2.,  7.,  2.,  9.,  7.,  2.,  1.,  1.,  6.,  6.,  7.,\n",
       "        3.,  0.,  8.,  7.,  6.,  5.,  3.,  4.,  4.,  9.,  9.,  8.,  7.,\n",
       "        1.,  9.,  4.,  6.,  1.,  5.,  9.,  2.,  4.,  7.,  9.,  4.,  5.,\n",
       "        5.,  9.,  5.,  0.,  1.,  4.,  7.,  7.,  3.,  0.,  1.,  1.,  5.,\n",
       "        9.,  1.,  7.,  9.,  3.,  6.,  5.,  3.,  2.,  5.,  7.,  3.,  6.,\n",
       "        1.,  2.,  7.,  8.,  6.,  9.,  9.,  3.,  8.,  8.,  1.,  2.,  4.,\n",
       "        0.,  1.,  3.,  8.,  3.,  0.,  1.,  4.,  3.,  2.,  7.,  0.,  2.,\n",
       "        2.,  4.,  9.,  6.,  4.,  8.,  5.,  1.,  7.,  2.,  6.,  0.,  1.,\n",
       "        6.,  6.,  0.,  8.,  7.,  2.,  6.,  5.,  1.,  0.,  4.])"
      ]
     },
     "execution_count": 290,
     "metadata": {},
     "output_type": "execute_result"
    }
   ],
   "source": [
    "%time clf.predict(X_test)"
   ]
  },
  {
   "cell_type": "code",
   "execution_count": 291,
   "metadata": {},
   "outputs": [
    {
     "name": "stdout",
     "output_type": "stream",
     "text": [
      "Wall time: 2.83 s\n"
     ]
    },
    {
     "data": {
      "text/plain": [
       "array([ 3.,  9.,  8.,  5.,  1.,  6.,  3.,  4.,  9.,  4.,  6.,  9.,  6.,\n",
       "        2.,  8.,  9.,  0.,  3.,  3.,  9.,  7.,  0.,  2.,  2.,  9.,  1.,\n",
       "        5.,  5.,  9.,  9.,  0.,  3.,  7.,  1.,  1.,  9.,  6.,  1.,  0.,\n",
       "        1.,  2.,  5.,  0.,  5.,  0.,  3.,  2.,  4.,  3.,  0.,  6.,  0.,\n",
       "        3.,  7.,  6.,  0.,  9.,  7.,  7.,  5.,  3.,  4.,  2.,  4.,  5.,\n",
       "        4.,  5.,  5.,  5.,  2.,  8.,  3.,  4.,  8.,  4.,  5.,  4.,  6.,\n",
       "        8.,  8.,  6.,  9.,  3.,  5.,  8.,  4.,  9.,  4.,  3.,  0.,  1.,\n",
       "        8.,  7.,  3.,  5.,  7.,  3.,  0.,  3.,  8.,  5.,  7.,  0.,  6.,\n",
       "        8.,  1.,  6.,  8.,  8.,  0.,  4.,  9.,  4.,  7.,  6.,  8.,  2.,\n",
       "        7.,  6.,  6.,  4.,  1.,  1.,  7.,  9.,  0.,  2.,  1.,  1.,  0.,\n",
       "        6.,  6.,  1.,  4.,  5.,  7.,  5.,  9.,  9.,  1.,  5.,  3.,  8.,\n",
       "        5.,  6.,  0.,  5.,  9.,  8.,  7.,  6.,  9.,  4.,  4.,  2.,  0.,\n",
       "        2.,  6.,  8.,  7.,  4.,  4.,  7.,  7.,  7.,  3.,  8.,  9.,  6.,\n",
       "        9.,  7.,  1.,  0.,  8.,  8.,  5.,  0.,  0.,  9.,  8.,  1.,  5.,\n",
       "        0.,  6.,  9.,  3.,  8.,  1.,  3.,  5.,  0.,  9.,  0.,  3.,  2.,\n",
       "        5.,  0.,  5.,  6.,  3.,  2.,  0.,  0.,  7.,  2.,  3.,  1.,  0.,\n",
       "        4.,  6.,  1.,  1.,  1.,  8.,  3.,  5.,  6.,  1.,  9.,  7.,  4.,\n",
       "        1.,  1.,  7.,  3.,  8.,  6.,  0.,  3.,  3.,  7.,  1.,  5.,  4.,\n",
       "        0.,  6.,  1.,  7.,  7.,  9.,  1.,  1.,  0.,  4.,  5.,  8.,  9.,\n",
       "        2.,  4.,  4.,  2.,  7.,  4.,  4.,  6.,  6.,  9.,  1.,  4.,  7.,\n",
       "        2.,  1.,  0.,  8.,  3.,  6.,  9.,  6.,  3.,  1.,  3.,  8.,  8.,\n",
       "        1.,  7.,  5.,  0.,  9.,  7.,  7.,  9.,  4.,  6.,  6.,  2.,  9.,\n",
       "        7.,  6.,  2.,  2.,  7.,  7.,  5.,  3.,  6.,  5.,  3.,  5.,  5.,\n",
       "        4.,  4.,  2.,  0.,  4.,  9.,  9.,  0.,  0.,  1.,  2.,  6.,  9.,\n",
       "        8.,  3.,  1.,  0.,  0.,  1.,  3.,  1.,  5.,  2.,  3.,  0.,  1.,\n",
       "        1.,  8.,  1.,  3.,  7.,  7.,  8.,  2.,  4.,  6.,  3.,  1.,  0.,\n",
       "        9.,  4.,  4.,  1.,  8.,  2.,  2.,  0.,  4.,  7.,  4.,  2.,  5.,\n",
       "        0.,  4.,  3.,  2.,  1.,  5.,  7.,  0.,  7.,  4.,  8.,  0.,  5.,\n",
       "        4.,  2.,  7.,  9.,  1.,  8.,  3.,  6.,  4.,  9.,  0.,  9.,  6.,\n",
       "        1.,  2.,  1.,  3.,  3.,  5.,  7.,  2.,  9.,  1.,  0.,  8.,  4.,\n",
       "        7.,  3.,  3.,  6.,  6.,  6.,  7.,  2.,  9.,  5.,  7.,  7.,  2.,\n",
       "        4.,  4.,  1.,  7.,  7.,  0.,  1.,  1.,  6.,  5.,  2.,  3.,  2.,\n",
       "        2.,  3.,  2.,  8.,  0.,  4.,  0.,  9.,  5.,  0.,  6.,  1.,  4.,\n",
       "        2.,  5.,  9.,  9.,  9.,  3.,  3.,  7.,  4.,  4.,  4.,  2.,  5.,\n",
       "        2.,  8.,  4.,  2.,  9.,  7.,  4.,  5.,  2.,  8.,  9.,  7.,  3.,\n",
       "        1.,  9.,  7.,  5.,  3.,  4.,  8.,  0.,  9.,  1.,  5.,  1.,  0.,\n",
       "        5.,  8.,  6.,  9.,  7.,  7.,  1.,  2.,  1.,  7.,  3.,  5.,  4.,\n",
       "        3.,  0.,  1.,  2.,  3.,  6.,  3.,  7.,  5.,  3.,  2.,  6.,  3.,\n",
       "        7.,  8.,  3.,  0.,  0.,  6.,  0.,  2.,  9.,  1.,  6.,  6.,  2.,\n",
       "        3.,  0.,  1.,  7.,  0.,  3.,  2.,  7.,  8.,  8.,  0.,  2.,  9.,\n",
       "        2.,  1.,  4.,  7.,  5.,  8.,  5.,  8.,  5.,  8.,  5.,  2.,  6.,\n",
       "        8.,  3.,  8.,  4.,  4.,  3.,  6.,  6.,  3.,  3.,  8.,  2.,  9.,\n",
       "        3.,  8.,  1.,  1.,  0.,  7.,  9.,  8.,  2.,  6.,  5.,  0.,  5.,\n",
       "        0.,  2.,  5.,  6.,  5.,  1.,  5.,  2.,  3.,  4.,  3.,  6.,  9.,\n",
       "        4.,  6.,  1.,  2.,  4.,  4.,  7.,  3.,  9.,  9.,  3.,  6.,  9.,\n",
       "        6.,  1.,  2.,  7.,  2.,  9.,  7.,  2.,  1.,  1.,  6.,  6.,  7.,\n",
       "        3.,  0.,  8.,  7.,  6.,  5.,  3.,  4.,  4.,  9.,  9.,  8.,  7.,\n",
       "        1.,  9.,  4.,  6.,  1.,  5.,  9.,  2.,  4.,  7.,  9.,  4.,  5.,\n",
       "        5.,  9.,  5.,  0.,  1.,  4.,  7.,  7.,  3.,  0.,  1.,  1.,  5.,\n",
       "        9.,  1.,  7.,  9.,  3.,  6.,  5.,  3.,  2.,  5.,  7.,  3.,  6.,\n",
       "        1.,  2.,  7.,  8.,  6.,  9.,  9.,  3.,  8.,  8.,  1.,  2.,  4.,\n",
       "        0.,  1.,  3.,  8.,  3.,  0.,  1.,  4.,  3.,  2.,  7.,  0.,  2.,\n",
       "        2.,  4.,  9.,  6.,  4.,  8.,  5.,  1.,  7.,  2.,  6.,  0.,  1.,\n",
       "        6.,  6.,  0.,  8.,  7.,  2.,  6.,  5.,  1.,  0.,  4.])"
      ]
     },
     "execution_count": 291,
     "metadata": {},
     "output_type": "execute_result"
    }
   ],
   "source": [
    "%time my_clf.predict(X_test)"
   ]
  },
  {
   "cell_type": "code",
   "execution_count": 292,
   "metadata": {},
   "outputs": [
    {
     "name": "stdout",
     "output_type": "stream",
     "text": [
      "Wall time: 2.56 s\n"
     ]
    },
    {
     "data": {
      "text/plain": [
       "array([[ 0.,  0.,  0., ...,  0.,  0.,  0.],\n",
       "       [ 0.,  0.,  0., ...,  0.,  0.,  1.],\n",
       "       [ 0.,  0.,  0., ...,  0.,  1.,  0.],\n",
       "       ..., \n",
       "       [ 0.,  1.,  0., ...,  0.,  0.,  0.],\n",
       "       [ 1.,  0.,  0., ...,  0.,  0.,  0.],\n",
       "       [ 0.,  0.,  0., ...,  0.,  0.,  0.]])"
      ]
     },
     "execution_count": 292,
     "metadata": {},
     "output_type": "execute_result"
    }
   ],
   "source": [
    "%time clf.predict_proba(X_test)"
   ]
  },
  {
   "cell_type": "code",
   "execution_count": 293,
   "metadata": {},
   "outputs": [
    {
     "name": "stdout",
     "output_type": "stream",
     "text": [
      "Wall time: 2.9 s\n"
     ]
    },
    {
     "data": {
      "text/plain": [
       "array([[ 0.,  0.,  0., ...,  0.,  0.,  0.],\n",
       "       [ 0.,  0.,  0., ...,  0.,  0.,  1.],\n",
       "       [ 0.,  0.,  0., ...,  0.,  1.,  0.],\n",
       "       ..., \n",
       "       [ 0.,  1.,  0., ...,  0.,  0.,  0.],\n",
       "       [ 1.,  0.,  0., ...,  0.,  0.,  0.],\n",
       "       [ 0.,  0.,  0., ...,  0.,  0.,  0.]])"
      ]
     },
     "execution_count": 293,
     "metadata": {},
     "output_type": "execute_result"
    }
   ],
   "source": [
    "%time my_clf.predict_proba(X_test)"
   ]
  },
  {
   "cell_type": "code",
   "execution_count": 294,
   "metadata": {},
   "outputs": [
    {
     "data": {
      "text/plain": [
       "0.96999999999999997"
      ]
     },
     "execution_count": 294,
     "metadata": {},
     "output_type": "execute_result"
    }
   ],
   "source": [
    "clf.score(X_test, y_test)"
   ]
  },
  {
   "cell_type": "code",
   "execution_count": 295,
   "metadata": {},
   "outputs": [
    {
     "data": {
      "text/plain": [
       "0.96999999999999997"
      ]
     },
     "execution_count": 295,
     "metadata": {},
     "output_type": "execute_result"
    }
   ],
   "source": [
    "my_clf.score(X_test, y_test)"
   ]
  },
  {
   "cell_type": "markdown",
   "metadata": {},
   "source": [
    "Задание 4"
   ]
  },
  {
   "cell_type": "code",
   "execution_count": 296,
   "metadata": {
    "collapsed": true
   },
   "outputs": [],
   "source": [
    "clf = KNeighborsClassifier(n_neighbors=5, algorithm='kd_tree')\n",
    "my_clf = MyKNeighborsClassifier(n_neighbors=5, algorithm='kd_tree')"
   ]
  },
  {
   "cell_type": "code",
   "execution_count": 297,
   "metadata": {
    "collapsed": true
   },
   "outputs": [],
   "source": [
    "X_train, X_test, y_train, y_test = train_test_split(mnist.data, mnist.target, test_size=0.01, stratify=mnist.target)"
   ]
  },
  {
   "cell_type": "code",
   "execution_count": 298,
   "metadata": {},
   "outputs": [
    {
     "name": "stdout",
     "output_type": "stream",
     "text": [
      "Wall time: 1min 21s\n"
     ]
    },
    {
     "data": {
      "text/plain": [
       "KNeighborsClassifier(algorithm='kd_tree', leaf_size=30, metric='minkowski',\n",
       "           metric_params=None, n_jobs=1, n_neighbors=5, p=2,\n",
       "           weights='uniform')"
      ]
     },
     "execution_count": 298,
     "metadata": {},
     "output_type": "execute_result"
    }
   ],
   "source": [
    "%time clf.fit(X_train, y_train)"
   ]
  },
  {
   "cell_type": "code",
   "execution_count": 299,
   "metadata": {},
   "outputs": [
    {
     "name": "stdout",
     "output_type": "stream",
     "text": [
      "Wall time: 1min 23s\n"
     ]
    }
   ],
   "source": [
    "%time my_clf.fit(X_train, y_train)"
   ]
  },
  {
   "cell_type": "code",
   "execution_count": 300,
   "metadata": {},
   "outputs": [
    {
     "name": "stdout",
     "output_type": "stream",
     "text": [
      "Wall time: 1min 17s\n"
     ]
    },
    {
     "data": {
      "text/plain": [
       "array([ 3.,  8.,  0.,  4.,  0.,  6.,  1.,  3.,  0.,  8.,  5.,  7.,  1.,\n",
       "        4.,  0.,  0.,  1.,  5.,  4.,  2.,  7.,  5.,  7.,  3.,  2.,  8.,\n",
       "        3.,  8.,  6.,  7.,  0.,  1.,  8.,  1.,  7.,  1.,  2.,  6.,  7.,\n",
       "        2.,  7.,  3.,  2.,  6.,  2.,  7.,  0.,  0.,  8.,  5.,  6.,  2.,\n",
       "        9.,  9.,  7.,  1.,  7.,  6.,  9.,  2.,  3.,  7.,  0.,  6.,  7.,\n",
       "        2.,  0.,  4.,  0.,  6.,  4.,  2.,  5.,  8.,  0.,  1.,  5.,  2.,\n",
       "        4.,  1.,  7.,  4.,  2.,  0.,  8.,  9.,  6.,  7.,  5.,  3.,  0.,\n",
       "        0.,  9.,  5.,  2.,  9.,  1.,  8.,  4.,  7.,  3.,  7.,  5.,  0.,\n",
       "        4.,  9.,  4.,  8.,  4.,  7.,  6.,  1.,  0.,  6.,  5.,  6.,  4.,\n",
       "        1.,  5.,  1.,  2.,  5.,  6.,  5.,  3.,  3.,  0.,  6.,  7.,  2.,\n",
       "        3.,  7.,  7.,  9.,  9.,  7.,  0.,  6.,  8.,  7.,  8.,  5.,  2.,\n",
       "        5.,  6.,  2.,  6.,  2.,  7.,  9.,  0.,  5.,  0.,  0.,  3.,  0.,\n",
       "        3.,  3.,  3.,  0.,  7.,  9.,  8.,  8.,  0.,  2.,  4.,  7.,  4.,\n",
       "        1.,  9.,  9.,  6.,  8.,  5.,  7.,  2.,  5.,  1.,  8.,  4.,  3.,\n",
       "        9.,  0.,  2.,  0.,  6.,  6.,  4.,  3.,  2.,  3.,  7.,  1.,  6.,\n",
       "        3.,  5.,  1.,  0.,  0.,  7.,  0.,  5.,  5.,  8.,  8.,  9.,  6.,\n",
       "        6.,  6.,  4.,  9.,  5.,  7.,  4.,  8.,  8.,  8.,  4.,  8.,  1.,\n",
       "        7.,  0.,  1.,  1.,  5.,  3.,  2.,  0.,  6.,  4.,  3.,  5.,  0.,\n",
       "        3.,  9.,  5.,  6.,  1.,  8.,  4.,  1.,  1.,  9.,  6.,  6.,  3.,\n",
       "        8.,  9.,  5.,  8.,  7.,  3.,  9.,  3.,  3.,  7.,  1.,  7.,  7.,\n",
       "        5.,  9.,  2.,  9.,  4.,  0.,  5.,  5.,  8.,  3.,  1.,  1.,  1.,\n",
       "        9.,  9.,  2.,  7.,  2.,  4.,  3.,  3.,  9.,  0.,  1.,  7.,  2.,\n",
       "        0.,  5.,  4.,  1.,  1.,  8.,  1.,  2.,  7.,  7.,  4.,  6.,  9.,\n",
       "        9.,  0.,  9.,  1.,  1.,  8.,  9.,  3.,  4.,  1.,  7.,  4.,  3.,\n",
       "        5.,  6.,  4.,  8.,  4.,  5.,  0.,  0.,  3.,  7.,  4.,  7.,  1.,\n",
       "        6.,  7.,  4.,  0.,  6.,  1.,  5.,  5.,  9.,  9.,  1.,  0.,  6.,\n",
       "        3.,  2.,  4.,  3.,  9.,  9.,  6.,  9.,  7.,  1.,  1.,  3.,  2.,\n",
       "        9.,  0.,  0.,  7.,  9.,  3.,  1.,  3.,  7.,  6.,  8.,  0.,  8.,\n",
       "        9.,  8.,  8.,  1.,  2.,  1.,  4.,  4.,  2.,  1.,  6.,  1.,  8.,\n",
       "        7.,  1.,  7.,  5.,  7.,  9.,  3.,  1.,  1.,  8.,  5.,  4.,  1.,\n",
       "        6.,  3.,  3.,  1.,  8.,  2.,  3.,  6.,  9.,  0.,  2.,  7.,  8.,\n",
       "        7.,  4.,  8.,  8.,  0.,  5.,  1.,  8.,  4.,  1.,  1.,  2.,  4.,\n",
       "        1.,  2.,  1.,  9.,  0.,  6.,  6.,  2.,  8.,  0.,  6.,  1.,  8.,\n",
       "        8.,  9.,  4.,  8.,  4.,  8.,  7.,  6.,  8.,  6.,  9.,  2.,  1.,\n",
       "        0.,  5.,  8.,  6.,  5.,  3.,  4.,  5.,  6.,  4.,  6.,  1.,  2.,\n",
       "        5.,  9.,  0.,  5.,  8.,  9.,  0.,  8.,  7.,  8.,  4.,  9.,  4.,\n",
       "        7.,  8.,  5.,  0.,  5.,  2.,  0.,  9.,  1.,  0.,  3.,  1.,  5.,\n",
       "        7.,  1.,  6.,  5.,  7.,  1.,  0.,  2.,  4.,  3.,  9.,  0.,  3.,\n",
       "        7.,  2.,  0.,  1.,  4.,  1.,  9.,  4.,  7.,  9.,  2.,  6.,  2.,\n",
       "        6.,  1.,  0.,  7.,  6.,  2.,  4.,  6.,  2.,  7.,  6.,  0.,  9.,\n",
       "        5.,  8.,  3.,  1.,  7.,  3.,  5.,  0.,  2.,  1.,  3.,  6.,  3.,\n",
       "        4.,  8.,  3.,  9.,  4.,  6.,  8.,  6.,  7.,  1.,  3.,  3.,  3.,\n",
       "        6.,  5.,  9.,  0.,  9.,  4.,  7.,  6.,  4.,  1.,  5.,  9.,  1.,\n",
       "        1.,  9.,  6.,  5.,  9.,  1.,  3.,  3.,  8.,  1.,  1.,  4.,  8.,\n",
       "        3.,  2.,  4.,  0.,  5.,  3.,  1.,  6.,  3.,  2.,  5.,  8.,  2.,\n",
       "        7.,  6.,  2.,  6.,  0.,  0.,  2.,  1.,  0.,  9.,  7.,  7.,  5.,\n",
       "        7.,  2.,  7.,  4.,  6.,  5.,  2.,  3.,  5.,  7.,  8.,  4.,  3.,\n",
       "        6.,  3.,  0.,  7.,  9.,  7.,  8.,  3.,  4.,  1.,  0.,  5.,  8.,\n",
       "        9.,  4.,  1.,  6.,  2.,  2.,  6.,  3.,  8.,  4.,  2.,  3.,  7.,\n",
       "        6.,  8.,  1.,  9.,  4.,  1.,  5.,  2.,  7.,  3.,  2.,  8.,  2.,\n",
       "        2.,  5.,  2.,  8.,  4.,  3.,  9.,  4.,  7.,  3.,  7.,  9.,  2.,\n",
       "        9.,  2.,  4.,  6.,  7.,  8.,  9.,  4.,  2.,  6.,  3.,  5.,  8.,\n",
       "        2.,  3.,  9.,  3.,  5.,  1.,  1.,  4.,  0.,  9.,  3.,  0.,  7.,\n",
       "        1.,  4.,  2.,  3.,  9.,  9.,  8.,  0.,  5.,  5.,  3.])"
      ]
     },
     "execution_count": 300,
     "metadata": {},
     "output_type": "execute_result"
    }
   ],
   "source": [
    "%time clf.predict(X_test)"
   ]
  },
  {
   "cell_type": "code",
   "execution_count": 301,
   "metadata": {},
   "outputs": [
    {
     "name": "stdout",
     "output_type": "stream",
     "text": [
      "Wall time: 1min 18s\n"
     ]
    },
    {
     "data": {
      "text/plain": [
       "array([ 3.,  8.,  0.,  4.,  0.,  6.,  1.,  3.,  0.,  8.,  5.,  7.,  1.,\n",
       "        4.,  0.,  0.,  1.,  5.,  4.,  2.,  7.,  5.,  7.,  3.,  2.,  8.,\n",
       "        3.,  8.,  6.,  7.,  0.,  1.,  8.,  1.,  7.,  1.,  2.,  6.,  7.,\n",
       "        2.,  7.,  3.,  2.,  6.,  2.,  7.,  0.,  0.,  8.,  5.,  6.,  2.,\n",
       "        9.,  9.,  7.,  1.,  7.,  6.,  9.,  2.,  3.,  7.,  0.,  6.,  7.,\n",
       "        2.,  0.,  4.,  0.,  6.,  4.,  2.,  5.,  8.,  0.,  1.,  5.,  2.,\n",
       "        4.,  1.,  7.,  4.,  2.,  0.,  8.,  9.,  6.,  7.,  5.,  3.,  0.,\n",
       "        0.,  9.,  5.,  2.,  9.,  1.,  8.,  4.,  7.,  3.,  7.,  5.,  0.,\n",
       "        4.,  9.,  4.,  8.,  4.,  7.,  6.,  1.,  0.,  6.,  5.,  6.,  4.,\n",
       "        1.,  5.,  1.,  2.,  5.,  6.,  5.,  3.,  3.,  0.,  6.,  7.,  2.,\n",
       "        3.,  7.,  7.,  9.,  9.,  7.,  0.,  6.,  8.,  7.,  8.,  5.,  2.,\n",
       "        5.,  6.,  2.,  6.,  2.,  7.,  9.,  0.,  5.,  0.,  0.,  3.,  0.,\n",
       "        3.,  3.,  3.,  0.,  7.,  9.,  8.,  8.,  0.,  2.,  4.,  7.,  4.,\n",
       "        1.,  9.,  9.,  6.,  8.,  5.,  7.,  2.,  5.,  1.,  8.,  4.,  3.,\n",
       "        9.,  0.,  2.,  0.,  6.,  6.,  4.,  3.,  2.,  3.,  7.,  1.,  6.,\n",
       "        3.,  5.,  1.,  0.,  0.,  7.,  0.,  5.,  5.,  8.,  8.,  9.,  6.,\n",
       "        6.,  6.,  4.,  9.,  5.,  7.,  4.,  8.,  8.,  8.,  4.,  8.,  1.,\n",
       "        7.,  0.,  1.,  1.,  5.,  3.,  2.,  0.,  6.,  4.,  3.,  5.,  0.,\n",
       "        3.,  9.,  5.,  6.,  1.,  8.,  4.,  1.,  1.,  9.,  6.,  6.,  3.,\n",
       "        8.,  9.,  5.,  8.,  7.,  3.,  9.,  3.,  3.,  7.,  1.,  7.,  7.,\n",
       "        5.,  9.,  2.,  9.,  4.,  0.,  5.,  5.,  8.,  3.,  1.,  1.,  1.,\n",
       "        9.,  9.,  2.,  7.,  2.,  4.,  3.,  3.,  9.,  0.,  1.,  7.,  2.,\n",
       "        0.,  5.,  4.,  1.,  1.,  8.,  1.,  2.,  7.,  7.,  4.,  6.,  9.,\n",
       "        9.,  0.,  9.,  1.,  1.,  8.,  9.,  3.,  4.,  1.,  7.,  4.,  3.,\n",
       "        5.,  6.,  4.,  8.,  4.,  5.,  0.,  0.,  3.,  7.,  4.,  7.,  1.,\n",
       "        6.,  7.,  4.,  0.,  6.,  1.,  5.,  5.,  9.,  9.,  1.,  0.,  6.,\n",
       "        3.,  2.,  4.,  3.,  9.,  9.,  6.,  9.,  7.,  1.,  1.,  3.,  2.,\n",
       "        9.,  0.,  0.,  7.,  9.,  3.,  1.,  3.,  7.,  6.,  8.,  0.,  8.,\n",
       "        9.,  8.,  8.,  1.,  2.,  1.,  4.,  4.,  2.,  1.,  6.,  1.,  8.,\n",
       "        7.,  1.,  7.,  5.,  7.,  9.,  3.,  1.,  1.,  8.,  5.,  4.,  1.,\n",
       "        6.,  3.,  3.,  1.,  8.,  2.,  3.,  6.,  9.,  0.,  2.,  7.,  8.,\n",
       "        7.,  4.,  8.,  8.,  0.,  5.,  1.,  8.,  4.,  1.,  1.,  2.,  4.,\n",
       "        1.,  2.,  1.,  9.,  0.,  6.,  6.,  2.,  8.,  0.,  6.,  1.,  8.,\n",
       "        8.,  9.,  4.,  8.,  4.,  8.,  7.,  6.,  8.,  6.,  9.,  2.,  1.,\n",
       "        0.,  5.,  8.,  6.,  5.,  3.,  4.,  5.,  6.,  4.,  6.,  1.,  2.,\n",
       "        5.,  9.,  0.,  5.,  8.,  9.,  0.,  8.,  7.,  8.,  4.,  9.,  4.,\n",
       "        7.,  8.,  5.,  0.,  5.,  2.,  0.,  9.,  1.,  0.,  3.,  1.,  5.,\n",
       "        7.,  1.,  6.,  5.,  7.,  1.,  0.,  2.,  4.,  3.,  9.,  0.,  3.,\n",
       "        7.,  2.,  0.,  1.,  4.,  1.,  9.,  4.,  7.,  9.,  2.,  6.,  2.,\n",
       "        6.,  1.,  0.,  7.,  6.,  2.,  4.,  6.,  2.,  7.,  6.,  0.,  9.,\n",
       "        5.,  8.,  3.,  1.,  7.,  3.,  5.,  0.,  2.,  1.,  3.,  6.,  3.,\n",
       "        4.,  8.,  3.,  9.,  4.,  6.,  8.,  6.,  7.,  1.,  3.,  3.,  3.,\n",
       "        6.,  5.,  9.,  0.,  9.,  4.,  7.,  6.,  4.,  1.,  5.,  9.,  1.,\n",
       "        1.,  9.,  6.,  5.,  9.,  1.,  3.,  3.,  8.,  1.,  1.,  4.,  8.,\n",
       "        3.,  2.,  4.,  0.,  5.,  3.,  1.,  6.,  3.,  2.,  5.,  8.,  2.,\n",
       "        7.,  6.,  2.,  6.,  0.,  0.,  2.,  1.,  0.,  9.,  7.,  7.,  5.,\n",
       "        7.,  2.,  7.,  4.,  6.,  5.,  2.,  3.,  5.,  7.,  8.,  4.,  3.,\n",
       "        6.,  3.,  0.,  7.,  9.,  7.,  8.,  3.,  4.,  1.,  0.,  5.,  8.,\n",
       "        9.,  4.,  1.,  6.,  2.,  2.,  6.,  3.,  8.,  4.,  2.,  3.,  7.,\n",
       "        6.,  8.,  1.,  9.,  4.,  1.,  5.,  2.,  7.,  3.,  2.,  8.,  2.,\n",
       "        2.,  5.,  2.,  8.,  4.,  3.,  9.,  4.,  7.,  3.,  7.,  9.,  2.,\n",
       "        9.,  2.,  4.,  6.,  7.,  8.,  9.,  4.,  2.,  6.,  3.,  5.,  8.,\n",
       "        2.,  3.,  9.,  3.,  5.,  1.,  1.,  4.,  0.,  9.,  3.,  0.,  7.,\n",
       "        1.,  4.,  2.,  3.,  9.,  9.,  8.,  0.,  5.,  5.,  3.])"
      ]
     },
     "execution_count": 301,
     "metadata": {},
     "output_type": "execute_result"
    }
   ],
   "source": [
    "%time my_clf.predict(X_test)"
   ]
  },
  {
   "cell_type": "code",
   "execution_count": 302,
   "metadata": {},
   "outputs": [
    {
     "name": "stdout",
     "output_type": "stream",
     "text": [
      "Wall time: 1min 20s\n"
     ]
    },
    {
     "data": {
      "text/plain": [
       "array([[ 0. ,  0. ,  0. , ...,  0. ,  0. ,  0. ],\n",
       "       [ 0. ,  0. ,  0. , ...,  0. ,  0.6,  0.4],\n",
       "       [ 1. ,  0. ,  0. , ...,  0. ,  0. ,  0. ],\n",
       "       ..., \n",
       "       [ 0. ,  0. ,  0. , ...,  0. ,  0. ,  0. ],\n",
       "       [ 0. ,  0. ,  0. , ...,  0. ,  0. ,  0. ],\n",
       "       [ 0. ,  0. ,  0. , ...,  0. ,  0. ,  0. ]])"
      ]
     },
     "execution_count": 302,
     "metadata": {},
     "output_type": "execute_result"
    }
   ],
   "source": [
    "%time clf.predict_proba(X_test)"
   ]
  },
  {
   "cell_type": "code",
   "execution_count": 303,
   "metadata": {},
   "outputs": [
    {
     "name": "stdout",
     "output_type": "stream",
     "text": [
      "Wall time: 1min 17s\n"
     ]
    },
    {
     "data": {
      "text/plain": [
       "array([[ 0. ,  0. ,  0. , ...,  0. ,  0. ,  0. ],\n",
       "       [ 0. ,  0. ,  0. , ...,  0. ,  0.6,  0.4],\n",
       "       [ 1. ,  0. ,  0. , ...,  0. ,  0. ,  0. ],\n",
       "       ..., \n",
       "       [ 0. ,  0. ,  0. , ...,  0. ,  0. ,  0. ],\n",
       "       [ 0. ,  0. ,  0. , ...,  0. ,  0. ,  0. ],\n",
       "       [ 0. ,  0. ,  0. , ...,  0. ,  0. ,  0. ]])"
      ]
     },
     "execution_count": 303,
     "metadata": {},
     "output_type": "execute_result"
    }
   ],
   "source": [
    "%time my_clf.predict_proba(X_test)"
   ]
  },
  {
   "cell_type": "code",
   "execution_count": 304,
   "metadata": {},
   "outputs": [
    {
     "data": {
      "text/plain": [
       "0.97142857142857142"
      ]
     },
     "execution_count": 304,
     "metadata": {},
     "output_type": "execute_result"
    }
   ],
   "source": [
    "clf.score(X_test, y_test)"
   ]
  },
  {
   "cell_type": "code",
   "execution_count": 305,
   "metadata": {},
   "outputs": [
    {
     "data": {
      "text/plain": [
       "0.97142857142857142"
      ]
     },
     "execution_count": 305,
     "metadata": {},
     "output_type": "execute_result"
    }
   ],
   "source": [
    "my_clf.score(X_test, y_test)"
   ]
  },
  {
   "cell_type": "markdown",
   "metadata": {},
   "source": [
    "Задание 5"
   ]
  },
  {
   "cell_type": "code",
   "execution_count": null,
   "metadata": {
    "collapsed": true
   },
   "outputs": [],
   "source": [
    "# seaborn\n",
    "    рисовать красивые графики\n",
    "# matplotlib\n",
    "    рисовать чуть менее красивые графики\n",
    "# train_test_split\n",
    "    разбить выборку на 2 части: для обучения и для проверки качества\n",
    "# Pipelin%load_ext e (from sklearn.pipeline import Pipeline)\n",
    "    #просто Pipeline (from sklearn.pipeline import Pipeline)?\n",
    "    позволяет применять композицию трансформаций к features перед применением алгоритма обучения,\n",
    "    то есть что-то типа конвейера/композиции функций\n",
    "# StandardScaler (from sklearn.preprocessing import StandardScaler)\n",
    "    приводит feature к \"стандартному\" распределению с нулевым матожиданием и единичной дисперсией\n",
    "    (сдвиг на -матожидание + масштабирование на корень из дисперсии)\n",
    "    \n",
    "mixin - специальный класс, функции которого могут использовать другие классы,\n",
    "        не обязательно наследники (чтобы избежать неоднозначностей при множественном наследовании)\n",
    "        (хотя здесь они всё равно почти все наследуются)\n",
    "# ClassifierMixin\n",
    "    базовый класс для оценочных функций, содержит только функцию score\n",
    "# NeighborsBase\n",
    "    базовый класс для оценочных функций по методу ближайших соседей,\n",
    "    содержит функцию для инициализации параметров и базовый _fit для построения модели \n",
    "                                                (складывает выборку в соответствующую алгоритму структуру)\n",
    "# KNeighborsMixin\n",
    "    базовый класс для классификаторов по методу k ближайших соседей\n",
    "    содержит функции для получения k ближайших соседей без весов и с весами\n",
    "# SupervisedIntegerMixin\n",
    "    базовый класс для обучения с учителем (оценка целочисленной переменной ~ классификация)\n",
    "    содержит функцию fit, которая подготавливает входные данные и вызывает (видимо отнаследованный) _fit"
   ]
  }
 ],
 "metadata": {
  "kernelspec": {
   "display_name": "Python 3",
   "language": "python",
   "name": "python3"
  },
  "language_info": {
   "codemirror_mode": {
    "name": "ipython",
    "version": 3
   },
   "file_extension": ".py",
   "mimetype": "text/x-python",
   "name": "python",
   "nbconvert_exporter": "python",
   "pygments_lexer": "ipython3",
   "version": "3.6.2"
  }
 },
 "nbformat": 4,
 "nbformat_minor": 2
}
